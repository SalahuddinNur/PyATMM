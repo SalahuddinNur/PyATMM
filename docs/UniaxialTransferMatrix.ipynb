{
 "cells": [
  {
   "cell_type": "code",
   "execution_count": 1,
   "metadata": {
    "collapsed": false
   },
   "outputs": [],
   "source": [
    "from sympy import *\n",
    "import numpy as np\n",
    "init_printing()"
   ]
  },
  {
   "cell_type": "markdown",
   "metadata": {},
   "source": [
    "Define symbols\n",
    "----\n",
    "\n",
    "Primary\n",
    "--"
   ]
  },
  {
   "cell_type": "code",
   "execution_count": 2,
   "metadata": {
    "collapsed": false
   },
   "outputs": [],
   "source": [
    "w, c, d = symbols('\\omega, c_0, d')"
   ]
  },
  {
   "cell_type": "code",
   "execution_count": 3,
   "metadata": {
    "collapsed": false
   },
   "outputs": [],
   "source": [
    "ax, ay, az = symbols('a_x, a_y, a_z')\n",
    "kx, ky, kz = symbols('k_x, k_y, k_z')\n",
    "opticAxis = Matrix([\n",
    "        ax, ay, az\n",
    "    ])\n",
    "eps_per, eps_par = symbols('\\epsilon_\\parallel, \\epsilon_\\perp')\n",
    "eps_iso = eps_per\n",
    "eps_ani = eps_par - eps_per"
   ]
  },
  {
   "cell_type": "code",
   "execution_count": 4,
   "metadata": {
    "collapsed": false
   },
   "outputs": [
    {
     "data": {
      "image/png": "[encoded data removed]",
      "text/latex": [
       "$$\\left [ - \\sqrt{\\epsilon_{\\parallel} \\omega^{2} - k_{x}^{2} - k_{y}^{2}}, \\quad \\sqrt{\\epsilon_{\\parallel} \\omega^{2} - k_{x}^{2} - k_{y}^{2}}, \\quad - \\sqrt{\\epsilon_{\\perp} \\omega^{2} - k_{x}^{2} - \\frac{\\epsilon_{\\perp} k_{y}^{2}}{\\epsilon_{\\parallel}}}, \\quad \\sqrt{\\epsilon_{\\perp} \\omega^{2} - k_{x}^{2} - \\frac{\\epsilon_{\\perp} k_{y}^{2}}{\\epsilon_{\\parallel}}}\\right ]$$"
      ],
      "text/plain": [
       "⎡                                                                             \n",
       "⎢    _________________________________________     ___________________________\n",
       "⎢   ╱                          2     2      2     ╱                          2\n",
       "⎢-╲╱  \\epsilon_\\parallel⋅\\omega  - kₓ  - k_y  , ╲╱  \\epsilon_\\parallel⋅\\omega \n",
       "⎣                                                                             \n",
       "\n",
       "                      ____________________________________________________    \n",
       "______________       ╱                                                  2     \n",
       "     2      2       ╱                       2     2   \\epsilon_\\perp⋅k_y      \n",
       " - kₓ  - k_y  , -  ╱   \\epsilon_\\perp⋅\\omega  - kₓ  - ─────────────────── ,   \n",
       "                 ╲╱                                    \\epsilon_\\parallel   ╲╱\n",
       "\n",
       "   ____________________________________________________⎤\n",
       "  ╱                                                  2 ⎥\n",
       " ╱                       2     2   \\epsilon_\\perp⋅k_y  ⎥\n",
       "╱   \\epsilon_\\perp⋅\\omega  - kₓ  - ─────────────────── ⎥\n",
       "                                    \\epsilon_\\parallel ⎦"
      ]
     },
     "execution_count": 4,
     "metadata": {},
     "output_type": "execute_result"
    }
   ],
   "source": [
    "e_xx, e_yy, e_zz, e_xy, e_yz, e_xz = symbols('\\epsilon_{xx}, \\epsilon_{yy}, \\epsilon_{zz},\\epsilon_{xy},\\\n",
    "                                             \\epsilon_{yz}, \\epsilon_{xz}')\n",
    "M = Matrix([[w**2*e_xx -ky**2 - kz**2, w**2*e_xy + kx*ky, w**2*e_xz + kx*kz], \n",
    "           [w**2*e_xy + kx*ky, w**2*e_yy - kx**2 - kz**2, w**2*e_yz + ky*kz], \n",
    "           [w**2*e_xz + kx*kz, w**2*e_yz + kz*ky, w**2*e_zz -kx**2 - ky**2]]).subs({e_xy:0, e_xz:0, e_yz:0, \n",
    "                                                                                    e_xx:eps_per, e_yy:eps_par,\n",
    "                                                                                    e_zz:eps_per })\n",
    "A = factor(det(M), kz)\n",
    "Sol = solve(Eq(A, 0), kz)\n",
    "Sol"
   ]
  },
  {
   "cell_type": "code",
   "execution_count": 5,
   "metadata": {
    "collapsed": false
   },
   "outputs": [],
   "source": [
    "k_1 = Matrix([kx, ky, Sol[0]])\n",
    "k_2 = Matrix([kx, ky, Sol[1]])\n",
    "k_3 = Matrix([kx, ky, Sol[2]])\n",
    "k_4 = Matrix([kx, ky, Sol[3]])\n",
    "kap_1 = k_1/sqrt(k_1.dot(k_1))\n",
    "kap_2 = k_2/sqrt(k_2.dot(k_2))\n",
    "kap_3 = k_3/sqrt(k_3.dot(k_3))\n",
    "kap_4 = k_4/sqrt(k_4.dot(k_4))"
   ]
  },
  {
   "cell_type": "code",
   "execution_count": 6,
   "metadata": {
    "collapsed": false
   },
   "outputs": [],
   "source": [
    "nu = eps_ani/eps_iso\n",
    "eps1 = eps_iso\n",
    "eps2_1 = eps_iso*(1 + nu)/(1 + (nu*kap_1.dot(opticAxis)**2))\n",
    "eps2_2 = eps_iso*(1 + nu)/(1 + (nu*kap_2.dot(opticAxis)**2))\n",
    "eps2_3 = eps_iso*(1 + nu)/(1 + (nu*kap_3.dot(opticAxis)**2))\n",
    "eps2_4 = eps_iso*(1 + nu)/(1 + (nu*kap_4.dot(opticAxis)**2))"
   ]
  },
  {
   "cell_type": "code",
   "execution_count": 7,
   "metadata": {
    "collapsed": true
   },
   "outputs": [],
   "source": [
    "p_1 = opticAxis.cross(kap_1)\n",
    "p_2 = opticAxis.cross(kap_3)\n",
    "#k1 = (w/c)*sqrt(eps1)\n",
    "#pol1, k1"
   ]
  },
  {
   "cell_type": "code",
   "execution_count": 8,
   "metadata": {
    "collapsed": true
   },
   "outputs": [],
   "source": [
    "p_3 = opticAxis - kap_3*opticAxis.dot(kap_3)*(eps2_3/eps1)\n",
    "p_4 = opticAxis - kap_4*opticAxis.dot(kap_4)*(eps2_4/eps1)\n",
    "#k2 = (w/c)*sqrt(eps2)\n",
    "#pol2, k2"
   ]
  },
  {
   "cell_type": "code",
   "execution_count": 9,
   "metadata": {
    "collapsed": false
   },
   "outputs": [],
   "source": [
    "# Norm\n",
    "p_1 = (p_1 / p_1.dot(p_1))\n",
    "p_2 = (p_2 / p_2.dot(p_2))\n",
    "p_3 = (p_3 / p_3.dot(p_3))\n",
    "p_4 = (p_4 / p_4.dot(p_4))\n",
    "\n",
    "q_1 = ((c/w) * k_1.cross(p_1))\n",
    "q_2 = ((c/w) * k_2.cross(p_2))\n",
    "q_3 = ((c/w) * k_3.cross(p_3))\n",
    "q_4 = ((c/w) * k_4.cross(p_4))"
   ]
  },
  {
   "cell_type": "code",
   "execution_count": 10,
   "metadata": {
    "collapsed": false
   },
   "outputs": [
    {
     "data": {
      "image/png": "[encoded data removed]",
      "text/latex": [
       "$$\\left ( \\left[\\begin{matrix}k_{x}\\\\k_{y}\\\\- \\sqrt{\\epsilon_{\\parallel} \\omega^{2} - k_{x}^{2} - k_{y}^{2}}\\end{matrix}\\right], \\quad \\left[\\begin{matrix}k_{x}\\\\k_{y}\\\\\\sqrt{\\epsilon_{\\parallel} \\omega^{2} - k_{x}^{2} - k_{y}^{2}}\\end{matrix}\\right], \\quad \\left[\\begin{matrix}k_{x}\\\\k_{y}\\\\- \\sqrt{\\epsilon_{\\perp} \\omega^{2} - k_{x}^{2} - \\frac{\\epsilon_{\\perp} k_{y}^{2}}{\\epsilon_{\\parallel}}}\\end{matrix}\\right], \\quad \\left[\\begin{matrix}k_{x}\\\\k_{y}\\\\\\sqrt{\\epsilon_{\\perp} \\omega^{2} - k_{x}^{2} - \\frac{\\epsilon_{\\perp} k_{y}^{2}}{\\epsilon_{\\parallel}}}\\end{matrix}\\right]\\right )$$"
      ],
      "text/plain": [
       "⎛⎡                     kₓ                      ⎤, ⎡                     kₓ    \n",
       "⎜⎢                                             ⎥  ⎢                           \n",
       "⎜⎢                     k_y                     ⎥  ⎢                    k_y    \n",
       "⎜⎢                                             ⎥  ⎢                           \n",
       "⎜⎢    _________________________________________⎥  ⎢   ________________________\n",
       "⎜⎢   ╱                          2     2      2 ⎥  ⎢  ╱                        \n",
       "⎜⎣-╲╱  \\epsilon_\\parallel⋅\\omega  - kₓ  - k_y  ⎦  ⎣╲╱  \\epsilon_\\parallel⋅\\ome\n",
       "⎜                                                                             \n",
       "⎝                                                                             \n",
       "\n",
       "                 ⎤, ⎡                            kₓ                           \n",
       "                 ⎥  ⎢                                                         \n",
       "                 ⎥  ⎢                           k_y                           \n",
       "                 ⎥  ⎢                                                         \n",
       "_________________⎥  ⎢      ___________________________________________________\n",
       "  2     2      2 ⎥  ⎢     ╱                                                  2\n",
       "ga  - kₓ  - k_y  ⎦  ⎢    ╱                       2     2   \\epsilon_\\perp⋅k_y \n",
       "                    ⎢-  ╱   \\epsilon_\\perp⋅\\omega  - kₓ  - ───────────────────\n",
       "                    ⎣ ╲╱                                    \\epsilon_\\parallel\n",
       "\n",
       " ⎤, ⎡                           kₓ                            ⎤⎞\n",
       " ⎥  ⎢                                                         ⎥⎟\n",
       " ⎥  ⎢                           k_y                           ⎥⎟\n",
       " ⎥  ⎢                                                         ⎥⎟\n",
       "_⎥  ⎢     ____________________________________________________⎥⎟\n",
       " ⎥  ⎢    ╱                                                  2 ⎥⎟\n",
       " ⎥  ⎢   ╱                       2     2   \\epsilon_\\perp⋅k_y  ⎥⎟\n",
       " ⎥  ⎢  ╱   \\epsilon_\\perp⋅\\omega  - kₓ  - ─────────────────── ⎥⎟\n",
       " ⎦  ⎣╲╱                                    \\epsilon_\\parallel ⎦⎠"
      ]
     },
     "execution_count": 10,
     "metadata": {},
     "output_type": "execute_result"
    }
   ],
   "source": [
    "k_1, k_2, k_3, k_4"
   ]
  },
  {
   "cell_type": "code",
   "execution_count": 11,
   "metadata": {
    "collapsed": false
   },
   "outputs": [],
   "source": [
    "D = Matrix([[p_1[0], p_2[0], p_3[0], p_4[0]], \n",
    "            [q_1[1], q_2[1], q_3[1], q_4[1]], \n",
    "            [p_1[1], p_2[1], p_3[1], p_4[1]], \n",
    "            [q_1[0], q_2[0], q_3[0], q_4[0]]])                                                                                  "
   ]
  },
  {
   "cell_type": "code",
   "execution_count": 12,
   "metadata": {
    "collapsed": false
   },
   "outputs": [
    {
     "data": {
      "image/png": "[encoded data removed]",
      "text/latex": [
       "$$\\left[\\begin{matrix}-1 & -1 & 0 & 0\\\\\\sqrt{2} & - \\sqrt{2} & 0 & 0\\\\0 & 0 & 1 & 1\\\\0 & 0 & 1 & -1\\end{matrix}\\right]$$"
      ],
      "text/plain": [
       "⎡ -1      -1    0  0 ⎤\n",
       "⎢                    ⎥\n",
       "⎢  ___     ___       ⎥\n",
       "⎢╲╱ 2   -╲╱ 2   0  0 ⎥\n",
       "⎢                    ⎥\n",
       "⎢  0      0     1  1 ⎥\n",
       "⎢                    ⎥\n",
       "⎣  0      0     1  -1⎦"
      ]
     },
     "execution_count": 12,
     "metadata": {},
     "output_type": "execute_result"
    }
   ],
   "source": [
    "D.subs({kx:0, ky:0, ax:0, ay:1, az:0, eps_par:1, eps_per:2, c:1, w:1})"
   ]
  },
  {
   "cell_type": "code",
   "execution_count": 13,
   "metadata": {
    "collapsed": false
   },
   "outputs": [
    {
     "data": {
      "image/png": "[encoded data removed]",
      "text/latex": [
       "$$\\left [ -1, \\quad 1, \\quad - \\sqrt{2}, \\quad \\sqrt{2}\\right ]$$"
      ],
      "text/plain": [
       "⎡          ___    ___⎤\n",
       "⎣-1, 1, -╲╱ 2 , ╲╱ 2 ⎦"
      ]
     },
     "execution_count": 13,
     "metadata": {},
     "output_type": "execute_result"
    }
   ],
   "source": [
    "[S.subs({kx:0, ky:0, w:1, eps_par:2, eps_per:1}) for S in Sol]"
   ]
  },
  {
   "cell_type": "code",
   "execution_count": null,
   "metadata": {
    "collapsed": true
   },
   "outputs": [],
   "source": []
  }
 ],
 "metadata": {
  "kernelspec": {
   "display_name": "Python 3",
   "language": "python",
   "name": "python3"
  },
  "language_info": {
   "codemirror_mode": {
    "name": "ipython",
    "version": 3
   },
   "file_extension": ".py",
   "mimetype": "text/x-python",
   "name": "python",
   "nbconvert_exporter": "python",
   "pygments_lexer": "ipython3",
   "version": "3.4.3"
  }
 },
 "nbformat": 4,
 "nbformat_minor": 0
}
