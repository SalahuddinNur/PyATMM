{
 "cells": [
  {
   "cell_type": "code",
   "execution_count": 1,
   "metadata": {
    "collapsed": true
   },
   "outputs": [],
   "source": [
    "from sympy import *\n",
    "import numpy as np\n",
    "init_printing()"
   ]
  },
  {
   "cell_type": "markdown",
   "metadata": {},
   "source": [
    "Define symbols\n",
    "----\n",
    "\n",
    "Primary\n",
    "--"
   ]
  },
  {
   "cell_type": "code",
   "execution_count": 5,
   "metadata": {
    "collapsed": true
   },
   "outputs": [],
   "source": [
    "k_x, k_y, k_z = symbols('k_x, k_y, k_z')\n",
    "w, c_0, c, d = symbols('\\omega, c_0, c, d')\n",
    "e_o, e_e = symbols('\\epsilon_o, \\epsilon_e')"
   ]
  },
  {
   "cell_type": "markdown",
   "metadata": {},
   "source": [
    "Secondary\n",
    "--"
   ]
  },
  {
   "cell_type": "code",
   "execution_count": 6,
   "metadata": {
    "collapsed": true
   },
   "outputs": [],
   "source": [
    "p_1, p_2, p_3, p_4 = symbols('p_1, p_2, p_3, p_4')\n",
    "k_z_1, k_z_2, k_z_3, k_z_4 = symbols('k_z1, k_z2, k_z3, k_z4')\n",
    "mod_k_z = Symbol('k_z')\n",
    "k_1, k_2, k_3, k_4 = symbols('k_1, k_2, k_3, k_4')\n",
    "n_o = sqrt(e_o)\n",
    "n_e = sqrt(e_e)"
   ]
  },
  {
   "cell_type": "markdown",
   "metadata": {},
   "source": [
    "Eigenmodes\n",
    "--"
   ]
  },
  {
   "cell_type": "code",
   "execution_count": null,
   "metadata": {
    "collapsed": true
   },
   "outputs": [],
   "source": []
  }
 ],
 "metadata": {
  "kernelspec": {
   "display_name": "Python 3",
   "language": "python",
   "name": "python3"
  },
  "language_info": {
   "codemirror_mode": {
    "name": "ipython",
    "version": 3
   },
   "file_extension": ".py",
   "mimetype": "text/x-python",
   "name": "python",
   "nbconvert_exporter": "python",
   "pygments_lexer": "ipython3",
   "version": "3.4.3"
  }
 },
 "nbformat": 4,
 "nbformat_minor": 0
}
