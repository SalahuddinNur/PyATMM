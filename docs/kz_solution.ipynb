{
 "cells": [
  {
   "cell_type": "code",
   "execution_count": 2,
   "metadata": {
    "collapsed": false
   },
   "outputs": [],
   "source": [
    "from sympy import *\n",
    "init_printing()"
   ]
  },
  {
   "cell_type": "code",
   "execution_count": 3,
   "metadata": {
    "collapsed": true
   },
   "outputs": [],
   "source": [
    "kx, ky, kz = symbols('k_x, k_y, k_z')"
   ]
  },
  {
   "cell_type": "code",
   "execution_count": 4,
   "metadata": {
    "collapsed": false
   },
   "outputs": [
    {
     "data": {
      "image/png": "[encoded data removed]",
      "text/latex": [
       "$$k_{x} + k_{y} + k_{z}$$"
      ],
      "text/plain": [
       "kₓ + k_y + k_z"
      ]
     },
     "execution_count": 4,
     "metadata": {},
     "output_type": "execute_result"
    }
   ],
   "source": [
    "kx + ky + kz"
   ]
  },
  {
   "cell_type": "code",
   "execution_count": 5,
   "metadata": {
    "collapsed": true
   },
   "outputs": [],
   "source": [
    "w = Symbol('\\omega') "
   ]
  },
  {
   "cell_type": "code",
   "execution_count": 6,
   "metadata": {
    "collapsed": false
   },
   "outputs": [
    {
     "data": {
      "image/png": "[encoded data removed]",
      "text/latex": [
       "$$\\omega$$"
      ],
      "text/plain": [
       "\\omega"
      ]
     },
     "execution_count": 6,
     "metadata": {},
     "output_type": "execute_result"
    }
   ],
   "source": [
    "w"
   ]
  },
  {
   "cell_type": "code",
   "execution_count": 7,
   "metadata": {
    "collapsed": true
   },
   "outputs": [],
   "source": [
    "e_xx, e_yy, e_zz, e_xy, e_yz, e_xz = symbols('\\epsilon_{xx}, \\epsilon_{yy}, \\epsilon_{zz}, \\epsilon_{xy}, \\epsilon_{yz}, \\epsilon_{xz}')"
   ]
  },
  {
   "cell_type": "code",
   "execution_count": 8,
   "metadata": {
    "collapsed": false
   },
   "outputs": [
    {
     "data": {
      "image/png": "[encoded data removed]",
      "text/latex": [
       "$$\\left ( \\epsilon_{{xx}}, \\quad \\epsilon_{{yy}}, \\quad \\epsilon_{{zz}}, \\quad \\epsilon_{{xy}}, \\quad \\epsilon_{{yz}}, \\quad \\epsilon_{{xz}}\\right )$$"
      ],
      "text/plain": [
       "(\\epsilon_{xx}, \\epsilon_{yy}, \\epsilon_{zz}, \\epsilon_{xy}, \\epsilon_{yz}, \\e\n",
       "psilon_{xz})"
      ]
     },
     "execution_count": 8,
     "metadata": {},
     "output_type": "execute_result"
    }
   ],
   "source": [
    "e_xx, e_yy, e_zz, e_xy, e_yz, e_xz"
   ]
  },
  {
   "cell_type": "code",
   "execution_count": 9,
   "metadata": {
    "collapsed": false
   },
   "outputs": [],
   "source": [
    "M = Matrix([[w**2*e_xx -ky**2 - kz**2, w**2*e_xy + kx*ky, w**2*e_xz + kx*kz], \n",
    "           [w**2*e_xy + kx*ky, w**2*e_yy - kx**2 - kz**2, w**2*e_yz + ky*kz], \n",
    "           [w**2*e_xz + kx*kz, w**2*e_yz + kz*ky, w**2*e_zz -kx**2 - ky**2]])"
   ]
  },
  {
   "cell_type": "code",
   "execution_count": 10,
   "metadata": {
    "collapsed": false
   },
   "outputs": [
    {
     "data": {
      "image/png": "[encoded data removed]",
      "text/latex": [
       "$$\\left[\\begin{matrix}\\epsilon_{{xx}} \\omega^{2} - k_{y}^{2} - k_{z}^{2} & \\epsilon_{{xy}} \\omega^{2} + k_{x} k_{y} & \\epsilon_{{xz}} \\omega^{2} + k_{x} k_{z}\\\\\\epsilon_{{xy}} \\omega^{2} + k_{x} k_{y} & \\epsilon_{{yy}} \\omega^{2} - k_{x}^{2} - k_{z}^{2} & \\epsilon_{{yz}} \\omega^{2} + k_{y} k_{z}\\\\\\epsilon_{{xz}} \\omega^{2} + k_{x} k_{z} & \\epsilon_{{yz}} \\omega^{2} + k_{y} k_{z} & \\epsilon_{{zz}} \\omega^{2} - k_{x}^{2} - k_{y}^{2}\\end{matrix}\\right]$$"
      ],
      "text/plain": [
       "⎡                    2      2      2                        2                 \n",
       "⎢\\epsilon_{xx}⋅\\omega  - k_y  - k_z     \\epsilon_{xy}⋅\\omega  + kₓ⋅k_y      \\e\n",
       "⎢                                                                             \n",
       "⎢                      2                                  2     2      2      \n",
       "⎢  \\epsilon_{xy}⋅\\omega  + kₓ⋅k_y     \\epsilon_{yy}⋅\\omega  - kₓ  - k_z    \\ep\n",
       "⎢                                                                             \n",
       "⎢                      2                                   2                  \n",
       "⎣  \\epsilon_{xz}⋅\\omega  + kₓ⋅k_z      \\epsilon_{yz}⋅\\omega  + k_y⋅k_z    \\eps\n",
       "\n",
       "                  2           ⎤\n",
       "psilon_{xz}⋅\\omega  + kₓ⋅k_z  ⎥\n",
       "                              ⎥\n",
       "                 2            ⎥\n",
       "silon_{yz}⋅\\omega  + k_y⋅k_z  ⎥\n",
       "                              ⎥\n",
       "                2     2      2⎥\n",
       "ilon_{zz}⋅\\omega  - kₓ  - k_y ⎦"
      ]
     },
     "execution_count": 10,
     "metadata": {},
     "output_type": "execute_result"
    }
   ],
   "source": [
    "M"
   ]
  },
  {
   "cell_type": "code",
   "execution_count": 51,
   "metadata": {
    "collapsed": false,
    "scrolled": true
   },
   "outputs": [],
   "source": [
    "A = factor(det(M), kz)"
   ]
  },
  {
   "cell_type": "code",
   "execution_count": 52,
   "metadata": {
    "collapsed": false
   },
   "outputs": [
    {
     "data": {
      "image/png": "[encoded data removed]",
      "text/latex": [
       "$$\\omega^{2} \\left(\\epsilon_{{xx}} \\epsilon_{{yy}} \\epsilon_{{zz}} \\omega^{4} - \\epsilon_{{xx}} \\epsilon_{{yy}} \\omega^{2} k_{x}^{2} - \\epsilon_{{xx}} \\epsilon_{{yy}} \\omega^{2} k_{y}^{2} - \\epsilon_{{xx}} \\epsilon_{{yz}}^{2} \\omega^{4} - \\epsilon_{{xx}} \\epsilon_{{zz}} \\omega^{2} k_{x}^{2} + \\epsilon_{{xx}} k_{x}^{4} + \\epsilon_{{xx}} k_{x}^{2} k_{y}^{2} - \\epsilon_{{xy}}^{2} \\epsilon_{{zz}} \\omega^{4} + \\epsilon_{{xy}}^{2} \\omega^{2} k_{x}^{2} + \\epsilon_{{xy}}^{2} \\omega^{2} k_{y}^{2} + 2 \\epsilon_{{xy}} \\epsilon_{{xz}} \\epsilon_{{yz}} \\omega^{4} - 2 \\epsilon_{{xy}} \\epsilon_{{zz}} \\omega^{2} k_{x} k_{y} + 2 \\epsilon_{{xy}} k_{x}^{3} k_{y} + 2 \\epsilon_{{xy}} k_{x} k_{y}^{3} - \\epsilon_{{xz}}^{2} \\epsilon_{{yy}} \\omega^{4} + \\epsilon_{{xz}}^{2} \\omega^{2} k_{x}^{2} + 2 \\epsilon_{{xz}} \\epsilon_{{yz}} \\omega^{2} k_{x} k_{y} - \\epsilon_{{yy}} \\epsilon_{{zz}} \\omega^{2} k_{y}^{2} + \\epsilon_{{yy}} k_{x}^{2} k_{y}^{2} + \\epsilon_{{yy}} k_{y}^{4} + \\epsilon_{{yz}}^{2} \\omega^{2} k_{y}^{2} + \\epsilon_{{zz}} k_{z}^{4} + k_{z}^{3} \\left(2 \\epsilon_{{xz}} k_{x} + 2 \\epsilon_{{yz}} k_{y}\\right) + k_{z}^{2} \\left(- \\epsilon_{{xx}} \\epsilon_{{zz}} \\omega^{2} + \\epsilon_{{xx}} k_{x}^{2} + 2 \\epsilon_{{xy}} k_{x} k_{y} + \\epsilon_{{xz}}^{2} \\omega^{2} - \\epsilon_{{yy}} \\epsilon_{{zz}} \\omega^{2} + \\epsilon_{{yy}} k_{y}^{2} + \\epsilon_{{yz}}^{2} \\omega^{2} + \\epsilon_{{zz}} k_{x}^{2} + \\epsilon_{{zz}} k_{y}^{2}\\right) + k_{z} \\left(- 2 \\epsilon_{{xx}} \\epsilon_{{yz}} \\omega^{2} k_{y} + 2 \\epsilon_{{xy}} \\epsilon_{{xz}} \\omega^{2} k_{y} + 2 \\epsilon_{{xy}} \\epsilon_{{yz}} \\omega^{2} k_{x} - 2 \\epsilon_{{xz}} \\epsilon_{{yy}} \\omega^{2} k_{x} + 2 \\epsilon_{{xz}} k_{x}^{3} + 2 \\epsilon_{{xz}} k_{x} k_{y}^{2} + 2 \\epsilon_{{yz}} k_{x}^{2} k_{y} + 2 \\epsilon_{{yz}} k_{y}^{3}\\right)\\right)$$"
      ],
      "text/plain": [
       "      2 ⎛                                                4                    \n",
       "\\omega ⋅⎝\\epsilon_{xx}⋅\\epsilon_{yy}⋅\\epsilon_{zz}⋅\\omega  - \\epsilon_{xx}⋅\\ep\n",
       "\n",
       "                 2   2                                     2    2             \n",
       "silon_{yy}⋅\\omega ⋅kₓ  - \\epsilon_{xx}⋅\\epsilon_{yy}⋅\\omega ⋅k_y  - \\epsilon_{\n",
       "\n",
       "                 2       4                                     2   2          \n",
       "xx}⋅\\epsilon_{yz} ⋅\\omega  - \\epsilon_{xx}⋅\\epsilon_{zz}⋅\\omega ⋅kₓ  + \\epsilo\n",
       "\n",
       "         4                   2    2                2                     4    \n",
       "n_{xx}⋅kₓ  + \\epsilon_{xx}⋅kₓ ⋅k_y  - \\epsilon_{xy} ⋅\\epsilon_{zz}⋅\\omega  + \\\n",
       "\n",
       "            2       2   2                2       2    2                       \n",
       "epsilon_{xy} ⋅\\omega ⋅kₓ  + \\epsilon_{xy} ⋅\\omega ⋅k_y  + 2⋅\\epsilon_{xy}⋅\\eps\n",
       "\n",
       "                              4                                       2       \n",
       "ilon_{xz}⋅\\epsilon_{yz}⋅\\omega  - 2⋅\\epsilon_{xy}⋅\\epsilon_{zz}⋅\\omega ⋅kₓ⋅k_y\n",
       "\n",
       "                     3                             3                2         \n",
       " + 2⋅\\epsilon_{xy}⋅kₓ ⋅k_y + 2⋅\\epsilon_{xy}⋅kₓ⋅k_y  - \\epsilon_{xz} ⋅\\epsilon\n",
       "\n",
       "            4                2       2   2                                    \n",
       "_{yy}⋅\\omega  + \\epsilon_{xz} ⋅\\omega ⋅kₓ  + 2⋅\\epsilon_{xz}⋅\\epsilon_{yz}⋅\\om\n",
       "\n",
       "   2                                            2    2                   2    \n",
       "ega ⋅kₓ⋅k_y - \\epsilon_{yy}⋅\\epsilon_{zz}⋅\\omega ⋅k_y  + \\epsilon_{yy}⋅kₓ ⋅k_y\n",
       "\n",
       "2                    4                2       2    2                    4     \n",
       "  + \\epsilon_{yy}⋅k_y  + \\epsilon_{yz} ⋅\\omega ⋅k_y  + \\epsilon_{zz}⋅k_z  + k_\n",
       "\n",
       " 3                                                 2 ⎛                        \n",
       "z ⋅(2⋅\\epsilon_{xz}⋅kₓ + 2⋅\\epsilon_{yz}⋅k_y) + k_z ⋅⎝- \\epsilon_{xx}⋅\\epsilon\n",
       "\n",
       "            2                   2                                         2   \n",
       "_{zz}⋅\\omega  + \\epsilon_{xx}⋅kₓ  + 2⋅\\epsilon_{xy}⋅kₓ⋅k_y + \\epsilon_{xz} ⋅\\o\n",
       "\n",
       "    2                                     2                    2              \n",
       "mega  - \\epsilon_{yy}⋅\\epsilon_{zz}⋅\\omega  + \\epsilon_{yy}⋅k_y  + \\epsilon_{y\n",
       "\n",
       "  2       2                   2                    2⎞       ⎛                 \n",
       "z} ⋅\\omega  + \\epsilon_{zz}⋅kₓ  + \\epsilon_{zz}⋅k_y ⎠ + k_z⋅⎝- 2⋅\\epsilon_{xx}\n",
       "\n",
       "                     2                                           2            \n",
       "⋅\\epsilon_{yz}⋅\\omega ⋅k_y + 2⋅\\epsilon_{xy}⋅\\epsilon_{xz}⋅\\omega ⋅k_y + 2⋅\\ep\n",
       "\n",
       "                               2                                          2   \n",
       "silon_{xy}⋅\\epsilon_{yz}⋅\\omega ⋅kₓ - 2⋅\\epsilon_{xz}⋅\\epsilon_{yy}⋅\\omega ⋅kₓ\n",
       "\n",
       "                     3                         2                     2        \n",
       " + 2⋅\\epsilon_{xz}⋅kₓ  + 2⋅\\epsilon_{xz}⋅kₓ⋅k_y  + 2⋅\\epsilon_{yz}⋅kₓ ⋅k_y + 2\n",
       "\n",
       "                  3⎞⎞\n",
       "⋅\\epsilon_{yz}⋅k_y ⎠⎠"
      ]
     },
     "execution_count": 52,
     "metadata": {},
     "output_type": "execute_result"
    }
   ],
   "source": [
    "A"
   ]
  },
  {
   "cell_type": "code",
   "execution_count": 53,
   "metadata": {
    "collapsed": false
   },
   "outputs": [
    {
     "data": {
      "image/png": "[encoded data removed]",
      "text/latex": [
       "$$\\left[\\begin{matrix}\\epsilon_{{xx}} \\omega^{2} - k_{y}^{2} - k_{z}^{2} & \\epsilon_{{xy}} \\omega^{2} + k_{x} k_{y} & \\epsilon_{{xz}} \\omega^{2} + k_{x} k_{z}\\\\\\epsilon_{{xy}} \\omega^{2} + k_{x} k_{y} & \\epsilon_{{yy}} \\omega^{2} - k_{x}^{2} - k_{z}^{2} & \\epsilon_{{yz}} \\omega^{2} + k_{y} k_{z}\\\\\\epsilon_{{xz}} \\omega^{2} + k_{x} k_{z} & \\epsilon_{{yz}} \\omega^{2} + k_{y} k_{z} & \\epsilon_{{zz}} \\omega^{2} - k_{x}^{2} - k_{y}^{2}\\end{matrix}\\right]$$"
      ],
      "text/plain": [
       "⎡                    2      2      2                        2                 \n",
       "⎢\\epsilon_{xx}⋅\\omega  - k_y  - k_z     \\epsilon_{xy}⋅\\omega  + kₓ⋅k_y      \\e\n",
       "⎢                                                                             \n",
       "⎢                      2                                  2     2      2      \n",
       "⎢  \\epsilon_{xy}⋅\\omega  + kₓ⋅k_y     \\epsilon_{yy}⋅\\omega  - kₓ  - k_z    \\ep\n",
       "⎢                                                                             \n",
       "⎢                      2                                   2                  \n",
       "⎣  \\epsilon_{xz}⋅\\omega  + kₓ⋅k_z      \\epsilon_{yz}⋅\\omega  + k_y⋅k_z    \\eps\n",
       "\n",
       "                  2           ⎤\n",
       "psilon_{xz}⋅\\omega  + kₓ⋅k_z  ⎥\n",
       "                              ⎥\n",
       "                 2            ⎥\n",
       "silon_{yz}⋅\\omega  + k_y⋅k_z  ⎥\n",
       "                              ⎥\n",
       "                2     2      2⎥\n",
       "ilon_{zz}⋅\\omega  - kₓ  - k_y ⎦"
      ]
     },
     "execution_count": 53,
     "metadata": {},
     "output_type": "execute_result"
    }
   ],
   "source": [
    "M"
   ]
  },
  {
   "cell_type": "code",
   "execution_count": null,
   "metadata": {
    "collapsed": true
   },
   "outputs": [],
   "source": []
  }
 ],
 "metadata": {
  "kernelspec": {
   "display_name": "Python 3",
   "language": "python",
   "name": "python3"
  },
  "language_info": {
   "codemirror_mode": {
    "name": "ipython",
    "version": 3
   },
   "file_extension": ".py",
   "mimetype": "text/x-python",
   "name": "python",
   "nbconvert_exporter": "python",
   "pygments_lexer": "ipython3",
   "version": "3.4.3"
  }
 },
 "nbformat": 4,
 "nbformat_minor": 0
}
