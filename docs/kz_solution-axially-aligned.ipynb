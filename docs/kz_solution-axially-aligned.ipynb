{
 "cells": [
  {
   "cell_type": "code",
   "execution_count": 1,
   "metadata": {
    "collapsed": false
   },
   "outputs": [],
   "source": [
    "from sympy import *\n",
    "init_printing()"
   ]
  },
  {
   "cell_type": "code",
   "execution_count": 2,
   "metadata": {
    "collapsed": true
   },
   "outputs": [],
   "source": [
    "kx, ky, kz = symbols('k_x, k_y, k_z')"
   ]
  },
  {
   "cell_type": "code",
   "execution_count": 3,
   "metadata": {
    "collapsed": false
   },
   "outputs": [
    {
     "data": {
      "image/png": "[encoded data removed]",
      "text/latex": [
       "$$k_{x} + k_{y} + k_{z}$$"
      ],
      "text/plain": [
       "kₓ + k_y + k_z"
      ]
     },
     "execution_count": 3,
     "metadata": {},
     "output_type": "execute_result"
    }
   ],
   "source": [
    "kx + ky + kz"
   ]
  },
  {
   "cell_type": "code",
   "execution_count": 4,
   "metadata": {
    "collapsed": true
   },
   "outputs": [],
   "source": [
    "w = Symbol('\\omega') "
   ]
  },
  {
   "cell_type": "code",
   "execution_count": 5,
   "metadata": {
    "collapsed": false
   },
   "outputs": [
    {
     "data": {
      "image/png": "[encoded data removed]",
      "text/latex": [
       "$$\\omega$$"
      ],
      "text/plain": [
       "\\omega"
      ]
     },
     "execution_count": 5,
     "metadata": {},
     "output_type": "execute_result"
    }
   ],
   "source": [
    "w"
   ]
  },
  {
   "cell_type": "code",
   "execution_count": 6,
   "metadata": {
    "collapsed": true
   },
   "outputs": [],
   "source": [
    "e_xx, e_yy, e_zz, e_xy, e_yz, e_xz = symbols('\\epsilon_{xx}, \\epsilon_{yy}, \\epsilon_{zz}, \\epsilon_{xy}, \\epsilon_{yz}, \\epsilon_{xz}')"
   ]
  },
  {
   "cell_type": "code",
   "execution_count": 7,
   "metadata": {
    "collapsed": false
   },
   "outputs": [
    {
     "data": {
      "image/png": "[encoded data removed]",
      "text/latex": [
       "$$\\left ( \\epsilon_{{xx}}, \\quad \\epsilon_{{yy}}, \\quad \\epsilon_{{zz}}, \\quad \\epsilon_{{xy}}, \\quad \\epsilon_{{yz}}, \\quad \\epsilon_{{xz}}\\right )$$"
      ],
      "text/plain": [
       "(\\epsilon_{xx}, \\epsilon_{yy}, \\epsilon_{zz}, \\epsilon_{xy}, \\epsilon_{yz}, \\e\n",
       "psilon_{xz})"
      ]
     },
     "execution_count": 7,
     "metadata": {},
     "output_type": "execute_result"
    }
   ],
   "source": [
    "e_xx, e_yy, e_zz, e_xy, e_yz, e_xz"
   ]
  },
  {
   "cell_type": "code",
   "execution_count": 8,
   "metadata": {
    "collapsed": false
   },
   "outputs": [],
   "source": [
    "M = Matrix([[w**2*e_xx -ky**2 - kz**2, w**2*e_xy + kx*ky, w**2*e_xz + kx*kz], \n",
    "           [w**2*e_xy + kx*ky, w**2*e_yy - kx**2 - kz**2, w**2*e_yz + ky*kz], \n",
    "           [w**2*e_xz + kx*kz, w**2*e_yz + kz*ky, w**2*e_zz -kx**2 - ky**2]]).subs({e_xy:0, e_xz:0, e_yz:0})"
   ]
  },
  {
   "cell_type": "code",
   "execution_count": 9,
   "metadata": {
    "collapsed": false
   },
   "outputs": [
    {
     "data": {
      "image/png": "[encoded data removed]",
      "text/latex": [
       "$$\\left[\\begin{matrix}\\epsilon_{{xx}} \\omega^{2} - k_{y}^{2} - k_{z}^{2} & k_{x} k_{y} & k_{x} k_{z}\\\\k_{x} k_{y} & \\epsilon_{{yy}} \\omega^{2} - k_{x}^{2} - k_{z}^{2} & k_{y} k_{z}\\\\k_{x} k_{z} & k_{y} k_{z} & \\epsilon_{{zz}} \\omega^{2} - k_{x}^{2} - k_{y}^{2}\\end{matrix}\\right]$$"
      ],
      "text/plain": [
       "⎡                    2      2      2                                          \n",
       "⎢\\epsilon_{xx}⋅\\omega  - k_y  - k_z                 kₓ⋅k_y                    \n",
       "⎢                                                                             \n",
       "⎢                                                         2     2      2      \n",
       "⎢              kₓ⋅k_y                 \\epsilon_{yy}⋅\\omega  - kₓ  - k_z       \n",
       "⎢                                                                             \n",
       "⎢                                                                             \n",
       "⎣              kₓ⋅k_z                              k_y⋅k_z                \\eps\n",
       "\n",
       "                              ⎤\n",
       "          kₓ⋅k_z              ⎥\n",
       "                              ⎥\n",
       "                              ⎥\n",
       "         k_y⋅k_z              ⎥\n",
       "                              ⎥\n",
       "                2     2      2⎥\n",
       "ilon_{zz}⋅\\omega  - kₓ  - k_y ⎦"
      ]
     },
     "execution_count": 9,
     "metadata": {},
     "output_type": "execute_result"
    }
   ],
   "source": [
    "M"
   ]
  },
  {
   "cell_type": "code",
   "execution_count": 11,
   "metadata": {
    "collapsed": false,
    "scrolled": true
   },
   "outputs": [],
   "source": [
    "A = factor(det(M), kz)"
   ]
  },
  {
   "cell_type": "code",
   "execution_count": 12,
   "metadata": {
    "collapsed": false
   },
   "outputs": [
    {
     "data": {
      "image/png": "[encoded data removed]",
      "text/latex": [
       "$$\\omega^{2} \\left(\\epsilon_{{xx}} \\epsilon_{{yy}} \\epsilon_{{zz}} \\omega^{4} - \\epsilon_{{xx}} \\epsilon_{{yy}} \\omega^{2} k_{x}^{2} - \\epsilon_{{xx}} \\epsilon_{{yy}} \\omega^{2} k_{y}^{2} - \\epsilon_{{xx}} \\epsilon_{{zz}} \\omega^{2} k_{x}^{2} + \\epsilon_{{xx}} k_{x}^{4} + \\epsilon_{{xx}} k_{x}^{2} k_{y}^{2} - \\epsilon_{{yy}} \\epsilon_{{zz}} \\omega^{2} k_{y}^{2} + \\epsilon_{{yy}} k_{x}^{2} k_{y}^{2} + \\epsilon_{{yy}} k_{y}^{4} + \\epsilon_{{zz}} k_{z}^{4} + k_{z}^{2} \\left(- \\epsilon_{{xx}} \\epsilon_{{zz}} \\omega^{2} + \\epsilon_{{xx}} k_{x}^{2} - \\epsilon_{{yy}} \\epsilon_{{zz}} \\omega^{2} + \\epsilon_{{yy}} k_{y}^{2} + \\epsilon_{{zz}} k_{x}^{2} + \\epsilon_{{zz}} k_{y}^{2}\\right)\\right)$$"
      ],
      "text/plain": [
       "      2 ⎛                                                4                    \n",
       "\\omega ⋅⎝\\epsilon_{xx}⋅\\epsilon_{yy}⋅\\epsilon_{zz}⋅\\omega  - \\epsilon_{xx}⋅\\ep\n",
       "\n",
       "                 2   2                                     2    2             \n",
       "silon_{yy}⋅\\omega ⋅kₓ  - \\epsilon_{xx}⋅\\epsilon_{yy}⋅\\omega ⋅k_y  - \\epsilon_{\n",
       "\n",
       "                        2   2                   4                   2    2    \n",
       "xx}⋅\\epsilon_{zz}⋅\\omega ⋅kₓ  + \\epsilon_{xx}⋅kₓ  + \\epsilon_{xx}⋅kₓ ⋅k_y  - \\\n",
       "\n",
       "                                 2    2                   2    2              \n",
       "epsilon_{yy}⋅\\epsilon_{zz}⋅\\omega ⋅k_y  + \\epsilon_{yy}⋅kₓ ⋅k_y  + \\epsilon_{y\n",
       "\n",
       "      4                    4      2 ⎛                                    2    \n",
       "y}⋅k_y  + \\epsilon_{zz}⋅k_z  + k_z ⋅⎝- \\epsilon_{xx}⋅\\epsilon_{zz}⋅\\omega  + \\\n",
       "\n",
       "               2                                     2                    2   \n",
       "epsilon_{xx}⋅kₓ  - \\epsilon_{yy}⋅\\epsilon_{zz}⋅\\omega  + \\epsilon_{yy}⋅k_y  + \n",
       "\n",
       "                2                    2⎞⎞\n",
       "\\epsilon_{zz}⋅kₓ  + \\epsilon_{zz}⋅k_y ⎠⎠"
      ]
     },
     "execution_count": 12,
     "metadata": {},
     "output_type": "execute_result"
    }
   ],
   "source": [
    "A"
   ]
  },
  {
   "cell_type": "code",
   "execution_count": 14,
   "metadata": {
    "collapsed": false
   },
   "outputs": [],
   "source": [
    "Sol = solve(Eq(A, 0), kz)"
   ]
  },
  {
   "cell_type": "code",
   "execution_count": 19,
   "metadata": {
    "collapsed": false
   },
   "outputs": [
    {
     "data": {
      "image/png": "[encoded data removed]",
      "text/latex": [
       "$$\\left [ - 0.692820323027551 \\sqrt{2}, \\quad 0.692820323027551 \\sqrt{2}, \\quad - 1.54919333848297 \\sqrt{2}, \\quad 1.54919333848297 \\sqrt{2}\\right ]$$"
      ],
      "text/plain": [
       "⎡                     ___                      ___                      ___   \n",
       "⎣-0.692820323027551⋅╲╱ 2 , 0.692820323027551⋅╲╱ 2 , -1.54919333848297⋅╲╱ 2 , 1\n",
       "\n",
       "                  ___⎤\n",
       ".54919333848297⋅╲╱ 2 ⎦"
      ]
     },
     "execution_count": 19,
     "metadata": {},
     "output_type": "execute_result"
    }
   ],
   "source": [
    "[S.subs({e_xx : 1, e_yy : 5, e_zz : 1, kx : 0, ky : 0.2, w: 1}) for S in Sol]"
   ]
  },
  {
   "cell_type": "code",
   "execution_count": null,
   "metadata": {
    "collapsed": true
   },
   "outputs": [],
   "source": []
  }
 ],
 "metadata": {
  "kernelspec": {
   "display_name": "Python 3",
   "language": "python",
   "name": "python3"
  },
  "language_info": {
   "codemirror_mode": {
    "name": "ipython",
    "version": 3
   },
   "file_extension": ".py",
   "mimetype": "text/x-python",
   "name": "python",
   "nbconvert_exporter": "python",
   "pygments_lexer": "ipython3",
   "version": "3.4.3"
  }
 },
 "nbformat": 4,
 "nbformat_minor": 0
}
