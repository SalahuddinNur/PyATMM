{
 "cells": [
  {
   "cell_type": "code",
   "execution_count": 1,
   "metadata": {
    "collapsed": true
   },
   "outputs": [],
   "source": [
    "from sympy import *\n",
    "import numpy as np\n",
    "init_printing()"
   ]
  },
  {
   "cell_type": "markdown",
   "metadata": {},
   "source": [
    "Symbols\n",
    "----"
   ]
  },
  {
   "cell_type": "code",
   "execution_count": 2,
   "metadata": {
    "collapsed": true
   },
   "outputs": [],
   "source": [
    "H, Hx, Hy, Hz = symbols('H, H_x, H_y, H_z')\n",
    "E, Ex, Ey, Ez = symbols('E, E_x, E_y, E_z')\n",
    "k, kx, ky, kz = symbols('k, k_x, k_y, k_z')\n",
    "c, w, Eps_par, Eps_per = symbols('c, \\omega, \\epsilon_\\parallel, \\epsilon_\\perp')"
   ]
  },
  {
   "cell_type": "code",
   "execution_count": 38,
   "metadata": {
    "collapsed": false
   },
   "outputs": [
    {
     "data": {
      "image/png": "[encoded data removed]",
      "text/latex": [
       "$$\\left ( \\left[\\begin{matrix}H_{x}\\\\H_{y}\\\\H_{z}\\end{matrix}\\right], \\quad \\left[\\begin{matrix}E_{x}\\\\E_{y}\\\\E_{z}\\end{matrix}\\right], \\quad \\left[\\begin{matrix}\\frac{c k_{x}}{\\omega}\\\\\\frac{c k_{y}}{\\omega}\\\\\\frac{c k_{z}}{\\omega}\\end{matrix}\\right], \\quad \\left[\\begin{matrix}\\epsilon_{\\perp}\\\\\\epsilon_{\\perp}\\\\\\epsilon_{\\parallel}\\end{matrix}\\right]\\right )$$"
      ],
      "text/plain": [
       "⎛              ⎡ c⋅kₓ ⎤                      ⎞\n",
       "⎜⎡Hₓ ⎤, ⎡Eₓ ⎤, ⎢──────⎥, ⎡  \\epsilon_\\perp  ⎤⎟\n",
       "⎜⎢   ⎥  ⎢   ⎥  ⎢\\omega⎥  ⎢                  ⎥⎟\n",
       "⎜⎢H_y⎥  ⎢E_y⎥  ⎢      ⎥  ⎢  \\epsilon_\\perp  ⎥⎟\n",
       "⎜⎢   ⎥  ⎢   ⎥  ⎢c⋅k_y ⎥  ⎢                  ⎥⎟\n",
       "⎜⎣H_z⎦  ⎣E_z⎦  ⎢──────⎥  ⎣\\epsilon_\\parallel⎦⎟\n",
       "⎜              ⎢\\omega⎥                      ⎟\n",
       "⎜              ⎢      ⎥                      ⎟\n",
       "⎜              ⎢c⋅k_z ⎥                      ⎟\n",
       "⎜              ⎢──────⎥                      ⎟\n",
       "⎝              ⎣\\omega⎦                      ⎠"
      ]
     },
     "execution_count": 38,
     "metadata": {},
     "output_type": "execute_result"
    }
   ],
   "source": [
    "H = Matrix([\n",
    "        Hx,\n",
    "        Hy,\n",
    "        Hz\n",
    "    ])\n",
    "E = Matrix([\n",
    "        Ex,\n",
    "        Ey,\n",
    "        Ez\n",
    "    ])\n",
    "k = Matrix([\n",
    "        kx,\n",
    "        ky,\n",
    "        kz\n",
    "    ])\n",
    "q = (c/w)*k\n",
    "Eps = Matrix([\n",
    "        Eps_per,\n",
    "        Eps_per,\n",
    "        Eps_par\n",
    "    ])\n",
    "H, E, q, Eps"
   ]
  },
  {
   "cell_type": "markdown",
   "metadata": {},
   "source": [
    "Maxwell Equations\n",
    "--"
   ]
  },
  {
   "cell_type": "code",
   "execution_count": 39,
   "metadata": {
    "collapsed": false
   },
   "outputs": [],
   "source": [
    "rotE = Eq(q.cross(E), H)"
   ]
  },
  {
   "cell_type": "code",
   "execution_count": 40,
   "metadata": {
    "collapsed": false
   },
   "outputs": [],
   "source": [
    "rotH = Eq(q.cross(H), E.multiply_elementwise(Eps))"
   ]
  },
  {
   "cell_type": "code",
   "execution_count": 41,
   "metadata": {
    "collapsed": false
   },
   "outputs": [
    {
     "data": {
      "image/png": "[encoded data removed]",
      "text/latex": [
       "$$\\left ( \\left[\\begin{matrix}- \\frac{E_{y} c}{\\omega} k_{z} + \\frac{E_{z} c}{\\omega} k_{y}\\\\\\frac{E_{x} c}{\\omega} k_{z} - \\frac{E_{z} c}{\\omega} k_{x}\\\\- \\frac{E_{x} c}{\\omega} k_{y} + \\frac{E_{y} c}{\\omega} k_{x}\\end{matrix}\\right] = \\left[\\begin{matrix}H_{x}\\\\H_{y}\\\\H_{z}\\end{matrix}\\right], \\quad \\left[\\begin{matrix}- \\frac{H_{y} c}{\\omega} k_{z} + \\frac{H_{z} c}{\\omega} k_{y}\\\\\\frac{H_{x} c}{\\omega} k_{z} - \\frac{H_{z} c}{\\omega} k_{x}\\\\- \\frac{H_{x} c}{\\omega} k_{y} + \\frac{H_{y} c}{\\omega} k_{x}\\end{matrix}\\right] = \\left[\\begin{matrix}E_{x} \\epsilon_{\\perp}\\\\E_{y} \\epsilon_{\\perp}\\\\E_{z} \\epsilon_{\\parallel}\\end{matrix}\\right]\\right )$$"
      ],
      "text/plain": [
       "⎛⎡  E_y⋅c⋅k_z   E_z⋅c⋅k_y⎤          ⎡  H_y⋅c⋅k_z   H_z⋅c⋅k_y⎤                 \n",
       "⎜⎢- ───────── + ─────────⎥ = ⎡Hₓ ⎤, ⎢- ───────── + ─────────⎥ = ⎡  Eₓ⋅\\epsilon\n",
       "⎜⎢    \\omega      \\omega ⎥   ⎢   ⎥  ⎢    \\omega      \\omega ⎥   ⎢             \n",
       "⎜⎢                       ⎥   ⎢H_y⎥  ⎢                       ⎥   ⎢  E_y⋅\\epsilo\n",
       "⎜⎢  Eₓ⋅c⋅k_z   E_z⋅c⋅kₓ  ⎥   ⎢   ⎥  ⎢  Hₓ⋅c⋅k_z   H_z⋅c⋅kₓ  ⎥   ⎢             \n",
       "⎜⎢  ──────── - ────────  ⎥   ⎣H_z⎦  ⎢  ──────── - ────────  ⎥   ⎣E_z⋅\\epsilon_\n",
       "⎜⎢   \\omega     \\omega   ⎥          ⎢   \\omega     \\omega   ⎥                 \n",
       "⎜⎢                       ⎥          ⎢                       ⎥                 \n",
       "⎜⎢   Eₓ⋅c⋅k_y   E_y⋅c⋅kₓ ⎥          ⎢   Hₓ⋅c⋅k_y   H_y⋅c⋅kₓ ⎥                 \n",
       "⎜⎢ - ──────── + ──────── ⎥          ⎢ - ──────── + ──────── ⎥                 \n",
       "⎝⎣    \\omega     \\omega  ⎦          ⎣    \\omega     \\omega  ⎦                 \n",
       "\n",
       "          ⎞\n",
       "_\\perp   ⎤⎟\n",
       "         ⎥⎟\n",
       "n_\\perp  ⎥⎟\n",
       "         ⎥⎟\n",
       "\\parallel⎦⎟\n",
       "          ⎟\n",
       "          ⎟\n",
       "          ⎟\n",
       "          ⎟\n",
       "          ⎠"
      ]
     },
     "execution_count": 41,
     "metadata": {},
     "output_type": "execute_result"
    }
   ],
   "source": [
    "rotE, rotH"
   ]
  },
  {
   "cell_type": "markdown",
   "metadata": {},
   "source": [
    "Simple\n",
    "---\n",
    "$k_y = 0$\n"
   ]
  },
  {
   "cell_type": "code",
   "execution_count": 42,
   "metadata": {
    "collapsed": false
   },
   "outputs": [
    {
     "data": {
      "image/png": "[encoded data removed]",
      "text/latex": [
       "$$\\left ( \\left[\\begin{matrix}- \\frac{E_{y} c}{\\omega} k_{z}\\\\\\frac{E_{x} c}{\\omega} k_{z} - \\frac{E_{z} c}{\\omega} k_{x}\\\\\\frac{E_{y} c}{\\omega} k_{x}\\end{matrix}\\right] = \\left[\\begin{matrix}H_{x}\\\\H_{y}\\\\H_{z}\\end{matrix}\\right], \\quad \\left[\\begin{matrix}- \\frac{H_{y} c}{\\omega} k_{z}\\\\\\frac{H_{x} c}{\\omega} k_{z} - \\frac{H_{z} c}{\\omega} k_{x}\\\\\\frac{H_{y} c}{\\omega} k_{x}\\end{matrix}\\right] = \\left[\\begin{matrix}E_{x} \\epsilon_{\\perp}\\\\E_{y} \\epsilon_{\\perp}\\\\E_{z} \\epsilon_{\\parallel}\\end{matrix}\\right]\\right )$$"
      ],
      "text/plain": [
       "⎛⎡    -E_y⋅c⋅k_z     ⎤          ⎡    -H_y⋅c⋅k_z     ⎤                         \n",
       "⎜⎢    ───────────    ⎥ = ⎡Hₓ ⎤, ⎢    ───────────    ⎥ = ⎡  Eₓ⋅\\epsilon_\\perp  \n",
       "⎜⎢       \\omega      ⎥   ⎢   ⎥  ⎢       \\omega      ⎥   ⎢                     \n",
       "⎜⎢                   ⎥   ⎢H_y⎥  ⎢                   ⎥   ⎢  E_y⋅\\epsilon_\\perp \n",
       "⎜⎢Eₓ⋅c⋅k_z   E_z⋅c⋅kₓ⎥   ⎢   ⎥  ⎢Hₓ⋅c⋅k_z   H_z⋅c⋅kₓ⎥   ⎢                     \n",
       "⎜⎢──────── - ────────⎥   ⎣H_z⎦  ⎢──────── - ────────⎥   ⎣E_z⋅\\epsilon_\\paralle\n",
       "⎜⎢ \\omega     \\omega ⎥          ⎢ \\omega     \\omega ⎥                         \n",
       "⎜⎢                   ⎥          ⎢                   ⎥                         \n",
       "⎜⎢     E_y⋅c⋅kₓ      ⎥          ⎢     H_y⋅c⋅kₓ      ⎥                         \n",
       "⎜⎢     ────────      ⎥          ⎢     ────────      ⎥                         \n",
       "⎝⎣      \\omega       ⎦          ⎣      \\omega       ⎦                         \n",
       "\n",
       "  ⎞\n",
       " ⎤⎟\n",
       " ⎥⎟\n",
       " ⎥⎟\n",
       " ⎥⎟\n",
       "l⎦⎟\n",
       "  ⎟\n",
       "  ⎟\n",
       "  ⎟\n",
       "  ⎟\n",
       "  ⎠"
      ]
     },
     "execution_count": 42,
     "metadata": {},
     "output_type": "execute_result"
    }
   ],
   "source": [
    "rotE.subs({ky:0}), rotH.subs({ky:0})"
   ]
  },
  {
   "cell_type": "markdown",
   "metadata": {
    "collapsed": false
   },
   "source": [
    "Ordinary Wave\n",
    "---\n",
    "$E_x = 0$"
   ]
  },
  {
   "cell_type": "code",
   "execution_count": 86,
   "metadata": {
    "collapsed": false
   },
   "outputs": [
    {
     "data": {
      "image/png": "[encoded data removed]",
      "text/latex": [
       "$$\\left[\\begin{matrix}-1 & - \\frac{c k_{z}}{\\omega} & 0\\\\- \\frac{c k_{z}}{\\omega} & - \\epsilon_{\\perp} & \\frac{c k_{x}}{\\omega}\\\\0 & \\frac{c k_{x}}{\\omega} & -1\\end{matrix}\\right]$$"
      ],
      "text/plain": [
       "⎡             -c⋅k_z             ⎤\n",
       "⎢  -1         ───────        0   ⎥\n",
       "⎢              \\omega            ⎥\n",
       "⎢                                ⎥\n",
       "⎢-c⋅k_z                     c⋅kₓ ⎥\n",
       "⎢───────  -\\epsilon_\\perp  ──────⎥\n",
       "⎢ \\omega                   \\omega⎥\n",
       "⎢                                ⎥\n",
       "⎢              c⋅kₓ              ⎥\n",
       "⎢   0         ──────         -1  ⎥\n",
       "⎣             \\omega             ⎦"
      ]
     },
     "execution_count": 86,
     "metadata": {},
     "output_type": "execute_result"
    }
   ],
   "source": [
    "MaxwellMatrix = Matrix([\n",
    "        [-1, -q[2], 0],\n",
    "        [-q[2], -Eps_per, q[0]],\n",
    "        [0, q[0], -1]\n",
    "])\n",
    "MaxwellMatrix"
   ]
  },
  {
   "cell_type": "code",
   "execution_count": 87,
   "metadata": {
    "collapsed": false
   },
   "outputs": [],
   "source": [
    "Sol = solve(Eq(MaxwellMatrix.det(), 0), Eps_per)[0]"
   ]
  },
  {
   "cell_type": "code",
   "execution_count": 94,
   "metadata": {
    "collapsed": false
   },
   "outputs": [
    {
     "data": {
      "image/png": "[encoded data removed]",
      "text/latex": [
       "$$\\left[\\begin{matrix}-1 & - \\frac{c k_{z}}{\\omega} & 0\\\\- \\frac{c k_{z}}{\\omega} & - \\frac{c^{2}}{\\omega^{2}} \\left(k_{x}^{2} + k_{z}^{2}\\right) & \\frac{c k_{x}}{\\omega}\\\\0 & \\frac{c k_{x}}{\\omega} & -1\\end{matrix}\\right]$$"
      ],
      "text/plain": [
       "⎡              -c⋅k_z              ⎤\n",
       "⎢  -1          ───────         0   ⎥\n",
       "⎢               \\omega             ⎥\n",
       "⎢                                  ⎥\n",
       "⎢           2 ⎛  2      2⎞         ⎥\n",
       "⎢-c⋅k_z   -c ⋅⎝kₓ  + k_z ⎠    c⋅kₓ ⎥\n",
       "⎢───────  ─────────────────  ──────⎥\n",
       "⎢ \\omega             2       \\omega⎥\n",
       "⎢              \\omega              ⎥\n",
       "⎢                                  ⎥\n",
       "⎢               c⋅kₓ               ⎥\n",
       "⎢   0          ──────          -1  ⎥\n",
       "⎣              \\omega              ⎦"
      ]
     },
     "execution_count": 94,
     "metadata": {},
     "output_type": "execute_result"
    }
   ],
   "source": [
    "MaxwellMatrix = MaxwellMatrix.subs({Eps_per:Sol})\n",
    "MaxwellMatrix"
   ]
  },
  {
   "cell_type": "code",
   "execution_count": 95,
   "metadata": {
    "collapsed": false
   },
   "outputs": [],
   "source": [
    "FieldVars = Matrix([\n",
    "        Hx,\n",
    "        Ey,\n",
    "        Hz\n",
    "    ])"
   ]
  },
  {
   "cell_type": "code",
   "execution_count": 96,
   "metadata": {
    "collapsed": false
   },
   "outputs": [
    {
     "data": {
      "image/png": "[encoded data removed]",
      "text/latex": [
       "$$\\left [ - \\frac{E_{y} c}{\\omega} k_{z} - H_{x} = 0, \\quad - \\frac{E_{y} c^{2}}{\\omega^{2}} \\left(k_{x}^{2} + k_{z}^{2}\\right) - \\frac{H_{x} c}{\\omega} k_{z} + \\frac{H_{z} c}{\\omega} k_{x} = 0, \\quad \\frac{E_{y} c}{\\omega} k_{x} - H_{z} = 0\\right ]$$"
      ],
      "text/plain": [
       "⎡                             2 ⎛  2      2⎞                                  \n",
       "⎢  E_y⋅c⋅k_z             E_y⋅c ⋅⎝kₓ  + k_z ⎠   Hₓ⋅c⋅k_z   H_z⋅c⋅kₓ      E_y⋅c⋅\n",
       "⎢- ───────── - Hₓ = 0, - ─────────────────── - ──────── + ──────── = 0, ──────\n",
       "⎢    \\omega                          2          \\omega     \\omega        \\omeg\n",
       "⎣                              \\omega                                         \n",
       "\n",
       "            ⎤\n",
       "kₓ          ⎥\n",
       "── - H_z = 0⎥\n",
       "a           ⎥\n",
       "            ⎦"
      ]
     },
     "execution_count": 96,
     "metadata": {},
     "output_type": "execute_result"
    }
   ],
   "source": [
    "equations = [Eq(MaxwellMatrix.dot(FieldVars)[0], 0),\n",
    "             Eq(MaxwellMatrix.dot(FieldVars)[1], 0),\n",
    "             Eq(MaxwellMatrix.dot(FieldVars)[2], 0)\n",
    "             ]\n",
    "equations"
   ]
  },
  {
   "cell_type": "code",
   "execution_count": 97,
   "metadata": {
    "collapsed": false
   },
   "outputs": [
    {
     "data": {
      "image/png": "[encoded data removed]",
      "text/latex": [
       "$$\\left[\\begin{matrix}- \\frac{c k_{z}}{\\omega}\\\\1\\\\\\frac{c k_{x}}{\\omega}\\end{matrix}\\right]$$"
      ],
      "text/plain": [
       "⎡-c⋅k_z ⎤\n",
       "⎢───────⎥\n",
       "⎢ \\omega⎥\n",
       "⎢       ⎥\n",
       "⎢   1   ⎥\n",
       "⎢       ⎥\n",
       "⎢ c⋅kₓ  ⎥\n",
       "⎢────── ⎥\n",
       "⎣\\omega ⎦"
      ]
     },
     "execution_count": 97,
     "metadata": {},
     "output_type": "execute_result"
    }
   ],
   "source": [
    "Solution = solve([equations[0], equations[2]], [Hx, Hz])\n",
    "OrdinaryPolarization = (Matrix([\n",
    "        Solution[Hx],\n",
    "        Ey,\n",
    "        Solution[Hz] \n",
    "    ]))/Ey\n",
    "OrdinaryPolarization"
   ]
  },
  {
   "cell_type": "markdown",
   "metadata": {},
   "source": [
    "Extraordinary Wave\n",
    "---\n",
    "$E_y = 0$"
   ]
  },
  {
   "cell_type": "code",
   "execution_count": 123,
   "metadata": {
    "collapsed": false
   },
   "outputs": [
    {
     "data": {
      "image/png": "[encoded data removed]",
      "text/latex": [
       "$$\\left[\\begin{matrix}\\frac{c k_{z}}{\\omega} & - \\epsilon_{\\perp} & 0\\\\-1 & \\frac{c k_{z}}{\\omega} & - \\frac{c k_{x}}{\\omega}\\\\- \\frac{c k_{x}}{\\omega} & 0 & - \\epsilon_{\\parallel}\\end{matrix}\\right]$$"
      ],
      "text/plain": [
       "⎡c⋅k_z                                       ⎤\n",
       "⎢──────  -\\epsilon_\\perp           0         ⎥\n",
       "⎢\\omega                                      ⎥\n",
       "⎢                                            ⎥\n",
       "⎢            c⋅k_z              -c⋅kₓ        ⎥\n",
       "⎢  -1        ──────             ──────       ⎥\n",
       "⎢            \\omega             \\omega       ⎥\n",
       "⎢                                            ⎥\n",
       "⎢-c⋅kₓ                                       ⎥\n",
       "⎢──────         0         -\\epsilon_\\parallel⎥\n",
       "⎣\\omega                                      ⎦"
      ]
     },
     "execution_count": 123,
     "metadata": {},
     "output_type": "execute_result"
    }
   ],
   "source": [
    "MaxwellMatrix = Matrix([\n",
    "        [q[2], -Eps_per, 0],\n",
    "        [-1, q[2], -q[0]],\n",
    "        [-q[0], 0, -Eps_par]\n",
    "])\n",
    "MaxwellMatrix"
   ]
  },
  {
   "cell_type": "code",
   "execution_count": 124,
   "metadata": {
    "collapsed": true
   },
   "outputs": [],
   "source": [
    "Sol_per = solve(Eq(MaxwellMatrix.det(), 0), Eps_per)[0]\n",
    "Sol_par = solve(Eq(MaxwellMatrix.det(), 0), Eps_par)[0]"
   ]
  },
  {
   "cell_type": "code",
   "execution_count": 125,
   "metadata": {
    "collapsed": false
   },
   "outputs": [
    {
     "data": {
      "image/png": "[encoded data removed]",
      "text/latex": [
       "$$\\left[\\begin{matrix}\\frac{c k_{z}}{\\omega} & - \\frac{\\epsilon_{\\parallel} c^{2} k_{z}^{2}}{\\epsilon_{\\parallel} \\omega^{2} - c^{2} k_{x}^{2}} & 0\\\\-1 & \\frac{c k_{z}}{\\omega} & - \\frac{c k_{x}}{\\omega}\\\\- \\frac{c k_{x}}{\\omega} & 0 & - \\epsilon_{\\parallel}\\end{matrix}\\right]$$"
      ],
      "text/plain": [
       "⎡                                 2    2                         ⎤\n",
       "⎢c⋅k_z       -\\epsilon_\\parallel⋅c ⋅k_z                          ⎥\n",
       "⎢──────  ───────────────────────────────────           0         ⎥\n",
       "⎢\\omega                           2    2   2                     ⎥\n",
       "⎢        \\epsilon_\\parallel⋅\\omega  - c ⋅kₓ                      ⎥\n",
       "⎢                                                                ⎥\n",
       "⎢                      c⋅k_z                        -c⋅kₓ        ⎥\n",
       "⎢  -1                  ──────                       ──────       ⎥\n",
       "⎢                      \\omega                       \\omega       ⎥\n",
       "⎢                                                                ⎥\n",
       "⎢-c⋅kₓ                                                           ⎥\n",
       "⎢──────                   0                   -\\epsilon_\\parallel⎥\n",
       "⎣\\omega                                                          ⎦"
      ]
     },
     "execution_count": 125,
     "metadata": {},
     "output_type": "execute_result"
    }
   ],
   "source": [
    "MaxwellMatrix = MaxwellMatrix.subs({Eps_per:Sol_per})\n",
    "MaxwellMatrix"
   ]
  },
  {
   "cell_type": "code",
   "execution_count": 126,
   "metadata": {
    "collapsed": true
   },
   "outputs": [],
   "source": [
    "FieldVars = Matrix([\n",
    "        Hy,\n",
    "        Ex,\n",
    "        Ez\n",
    "    ])"
   ]
  },
  {
   "cell_type": "code",
   "execution_count": 127,
   "metadata": {
    "collapsed": false
   },
   "outputs": [
    {
     "data": {
      "image/png": "[encoded data removed]",
      "text/latex": [
       "$$\\left [ - \\frac{E_{x} \\epsilon_{\\parallel} c^{2} k_{z}^{2}}{\\epsilon_{\\parallel} \\omega^{2} - c^{2} k_{x}^{2}} + \\frac{H_{y} c}{\\omega} k_{z} = 0, \\quad \\frac{E_{x} c}{\\omega} k_{z} - \\frac{E_{z} c}{\\omega} k_{x} - H_{y} = 0, \\quad - E_{z} \\epsilon_{\\parallel} - \\frac{H_{y} c}{\\omega} k_{x} = 0\\right ]$$"
      ],
      "text/plain": [
       "⎡                            2    2                                           \n",
       "⎢     Eₓ⋅\\epsilon_\\parallel⋅c ⋅k_z       H_y⋅c⋅k_z      Eₓ⋅c⋅k_z   E_z⋅c⋅kₓ   \n",
       "⎢- ─────────────────────────────────── + ───────── = 0, ──────── - ──────── - \n",
       "⎢                           2    2   2     \\omega        \\omega     \\omega    \n",
       "⎣  \\epsilon_\\parallel⋅\\omega  - c ⋅kₓ                                         \n",
       "\n",
       "                                               ⎤\n",
       "                                   H_y⋅c⋅kₓ    ⎥\n",
       "H_y = 0, -E_z⋅\\epsilon_\\parallel - ──────── = 0⎥\n",
       "                                    \\omega     ⎥\n",
       "                                               ⎦"
      ]
     },
     "execution_count": 127,
     "metadata": {},
     "output_type": "execute_result"
    }
   ],
   "source": [
    "equations = [Eq(MaxwellMatrix.dot(FieldVars)[0], 0),\n",
    "             Eq(MaxwellMatrix.dot(FieldVars)[1], 0),\n",
    "             Eq(MaxwellMatrix.dot(FieldVars)[2], 0)\n",
    "             ]\n",
    "equations"
   ]
  },
  {
   "cell_type": "code",
   "execution_count": 131,
   "metadata": {
    "collapsed": false
   },
   "outputs": [
    {
     "data": {
      "image/png": "[encoded data removed]",
      "text/latex": [
       "$$\\left[\\begin{matrix}\\epsilon_{\\perp}\\\\\\frac{c k_{z}}{\\omega}\\\\- \\frac{\\epsilon_{\\perp} c k_{x}}{\\epsilon_{\\parallel} \\omega}\\end{matrix}\\right]$$"
      ],
      "text/plain": [
       "⎡     \\epsilon_\\perp      ⎤\n",
       "⎢                         ⎥\n",
       "⎢         c⋅k_z           ⎥\n",
       "⎢         ──────          ⎥\n",
       "⎢         \\omega          ⎥\n",
       "⎢                         ⎥\n",
       "⎢  -\\epsilon_\\perp⋅c⋅kₓ   ⎥\n",
       "⎢─────────────────────────⎥\n",
       "⎣\\epsilon_\\parallel⋅\\omega⎦"
      ]
     },
     "execution_count": 131,
     "metadata": {},
     "output_type": "execute_result"
    }
   ],
   "source": [
    "Solution = solve([equations[0], equations[2]], [Ex, Ez])\n",
    "ExtraordinaryPolarization = simplify(Matrix([\n",
    "            Hy,\n",
    "            Solution[Ex].subs({Eps_par:Sol_par}),\n",
    "            Solution[Ez] \n",
    "    ])*Eps_per/Hy)\n",
    "ExtraordinaryPolarization"
   ]
  },
  {
   "cell_type": "markdown",
   "metadata": {},
   "source": [
    "Eigenmodes\n",
    "--"
   ]
  },
  {
   "cell_type": "code",
   "execution_count": 133,
   "metadata": {
    "collapsed": false
   },
   "outputs": [
    {
     "data": {
      "image/png": "[encoded data removed]",
      "text/latex": [
       "$$\\left ( \\left[\\begin{matrix}- \\frac{c k_{z}}{\\omega}\\\\1\\\\\\frac{c k_{x}}{\\omega}\\end{matrix}\\right], \\quad \\left[\\begin{matrix}\\epsilon_{\\perp}\\\\\\frac{c k_{z}}{\\omega}\\\\- \\frac{\\epsilon_{\\perp} c k_{x}}{\\epsilon_{\\parallel} \\omega}\\end{matrix}\\right]\\right )$$"
      ],
      "text/plain": [
       "⎛⎡-c⋅k_z ⎤                             ⎞\n",
       "⎜⎢───────⎥, ⎡     \\epsilon_\\perp      ⎤⎟\n",
       "⎜⎢ \\omega⎥  ⎢                         ⎥⎟\n",
       "⎜⎢       ⎥  ⎢         c⋅k_z           ⎥⎟\n",
       "⎜⎢   1   ⎥  ⎢         ──────          ⎥⎟\n",
       "⎜⎢       ⎥  ⎢         \\omega          ⎥⎟\n",
       "⎜⎢ c⋅kₓ  ⎥  ⎢                         ⎥⎟\n",
       "⎜⎢────── ⎥  ⎢  -\\epsilon_\\perp⋅c⋅kₓ   ⎥⎟\n",
       "⎜⎣\\omega ⎦  ⎢─────────────────────────⎥⎟\n",
       "⎝           ⎣\\epsilon_\\parallel⋅\\omega⎦⎠"
      ]
     },
     "execution_count": 133,
     "metadata": {},
     "output_type": "execute_result"
    }
   ],
   "source": [
    "OrdinaryPolarization, ExtraordinaryPolarization"
   ]
  },
  {
   "cell_type": "code",
   "execution_count": null,
   "metadata": {
    "collapsed": true
   },
   "outputs": [],
   "source": []
  }
 ],
 "metadata": {
  "kernelspec": {
   "display_name": "Python 2",
   "language": "python",
   "name": "python2"
  },
  "language_info": {
   "codemirror_mode": {
    "name": "ipython",
    "version": 2
   },
   "file_extension": ".py",
   "mimetype": "text/x-python",
   "name": "python",
   "nbconvert_exporter": "python",
   "pygments_lexer": "ipython2",
   "version": "2.7.10"
  }
 },
 "nbformat": 4,
 "nbformat_minor": 0
}
