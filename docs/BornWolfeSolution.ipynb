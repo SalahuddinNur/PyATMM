{
 "cells": [
  {
   "cell_type": "code",
   "execution_count": 21,
   "metadata": {
    "collapsed": true
   },
   "outputs": [],
   "source": [
    "from sympy import *\n",
    "import numpy as np\n",
    "init_printing()"
   ]
  },
  {
   "cell_type": "markdown",
   "metadata": {},
   "source": [
    "Defines\n",
    "---"
   ]
  },
  {
   "cell_type": "code",
   "execution_count": 22,
   "metadata": {
    "collapsed": true
   },
   "outputs": [],
   "source": [
    "H, Hx, Hy, Hz = symbols('H, H_x, H_y, H_z')\n",
    "E, Ex, Ey, Ez = symbols('E, E_x, E_y, E_z')\n",
    "k, kx, ky, kz = symbols('k, k_x, k_y, k_z')\n",
    "q, qx, qy, qz = symbols('q, q_x, q_y, q_z')\n",
    "c, w, Eps_par, Eps_per = symbols('c, \\omega, \\epsilon_\\parallel, \\epsilon_\\perp')\n",
    "Eps_eff = symbols('\\epsilon_{eff}')"
   ]
  },
  {
   "cell_type": "code",
   "execution_count": 23,
   "metadata": {
    "collapsed": false
   },
   "outputs": [
    {
     "data": {
      "image/png": "[encoded data removed]",
      "text/latex": [
       "$$\\left ( \\left[\\begin{matrix}H_{x}\\\\H_{y}\\\\H_{z}\\end{matrix}\\right], \\quad \\left[\\begin{matrix}E_{x}\\\\E_{y}\\\\E_{z}\\end{matrix}\\right], \\quad \\left[\\begin{matrix}q_{x}\\\\q_{y}\\\\q_{z}\\end{matrix}\\right], \\quad \\left[\\begin{matrix}\\epsilon_{\\perp} & 0 & 0\\\\0 & \\epsilon_{\\perp} & 0\\\\0 & 0 & \\epsilon_{\\parallel}\\end{matrix}\\right]\\right )$$"
      ],
      "text/plain": [
       "⎛⎡Hₓ ⎤, ⎡Eₓ ⎤, ⎡qₓ ⎤, ⎡\\epsilon_\\perp        0                 0         ⎤⎞\n",
       "⎜⎢   ⎥  ⎢   ⎥  ⎢   ⎥  ⎢                                                  ⎥⎟\n",
       "⎜⎢H_y⎥  ⎢E_y⎥  ⎢q_y⎥  ⎢      0         \\epsilon_\\perp          0         ⎥⎟\n",
       "⎜⎢   ⎥  ⎢   ⎥  ⎢   ⎥  ⎢                                                  ⎥⎟\n",
       "⎝⎣H_z⎦  ⎣E_z⎦  ⎣q_z⎦  ⎣      0               0         \\epsilon_\\parallel⎦⎠"
      ]
     },
     "execution_count": 23,
     "metadata": {},
     "output_type": "execute_result"
    }
   ],
   "source": [
    "H = Matrix([\n",
    "        Hx,\n",
    "        Hy,\n",
    "        Hz\n",
    "    ])\n",
    "E = Matrix([\n",
    "        Ex,\n",
    "        Ey,\n",
    "        Ez\n",
    "    ])\n",
    "q = Matrix([\n",
    "        qx,\n",
    "        qy,\n",
    "        qz\n",
    "    ])\n",
    "#q = (c/w)*k\n",
    "Eps = Matrix([\n",
    "        [Eps_per, 0, 0],\n",
    "        [0,Eps_per,0],\n",
    "        [0,0,Eps_par]\n",
    "    ])\n",
    "H, E, q, Eps"
   ]
  },
  {
   "cell_type": "code",
   "execution_count": 24,
   "metadata": {
    "collapsed": false
   },
   "outputs": [
    {
     "data": {
      "image/png": "[encoded data removed]",
      "text/latex": [
       "$$\\left[\\begin{matrix}\\frac{q_{x}}{\\sqrt{q_{x}^{2} + q_{y}^{2} + q_{z}^{2}}}\\\\\\frac{q_{y}}{\\sqrt{q_{x}^{2} + q_{y}^{2} + q_{z}^{2}}}\\\\\\frac{q_{z}}{\\sqrt{q_{x}^{2} + q_{y}^{2} + q_{z}^{2}}}\\end{matrix}\\right]$$"
      ],
      "text/plain": [
       "⎡          qₓ          ⎤\n",
       "⎢──────────────────────⎥\n",
       "⎢   ___________________⎥\n",
       "⎢  ╱   2      2      2 ⎥\n",
       "⎢╲╱  qₓ  + q_y  + q_z  ⎥\n",
       "⎢                      ⎥\n",
       "⎢         q_y          ⎥\n",
       "⎢──────────────────────⎥\n",
       "⎢   ___________________⎥\n",
       "⎢  ╱   2      2      2 ⎥\n",
       "⎢╲╱  qₓ  + q_y  + q_z  ⎥\n",
       "⎢                      ⎥\n",
       "⎢         q_z          ⎥\n",
       "⎢──────────────────────⎥\n",
       "⎢   ___________________⎥\n",
       "⎢  ╱   2      2      2 ⎥\n",
       "⎣╲╱  qₓ  + q_y  + q_z  ⎦"
      ]
     },
     "execution_count": 24,
     "metadata": {},
     "output_type": "execute_result"
    }
   ],
   "source": [
    "s = q/sqrt(q.dot(q))\n",
    "s"
   ]
  },
  {
   "cell_type": "markdown",
   "metadata": {},
   "source": [
    "Solve for polarizations\n",
    "---"
   ]
  },
  {
   "cell_type": "code",
   "execution_count": 28,
   "metadata": {
    "collapsed": false
   },
   "outputs": [
    {
     "data": {
      "image/png": "[encoded data removed]",
      "text/latex": [
       "$$\\frac{1}{q_{x}^{2} + q_{y}^{2} + q_{z}^{2}} \\left(\\epsilon_{\\perp} - \\epsilon_{{eff}}\\right) \\left(\\epsilon_{\\parallel} q_{z}^{2} \\left(\\epsilon_{\\perp} - \\epsilon_{{eff}}\\right) + \\epsilon_{\\perp} q_{x}^{2} \\left(\\epsilon_{\\parallel} - \\epsilon_{{eff}}\\right) + \\epsilon_{\\perp} q_{y}^{2} \\left(\\epsilon_{\\parallel} - \\epsilon_{{eff}}\\right)\\right) = 0$$"
      ],
      "text/plain": [
       "                                  ⎛                      2                    \n",
       "(\\epsilon_\\perp - \\epsilon_{eff})⋅⎝\\epsilon_\\parallel⋅q_z ⋅(\\epsilon_\\perp - \\\n",
       "──────────────────────────────────────────────────────────────────────────────\n",
       "                                                                              \n",
       "                                                                              \n",
       "\n",
       "                                  2                                           \n",
       "epsilon_{eff}) + \\epsilon_\\perp⋅qₓ ⋅(\\epsilon_\\parallel - \\epsilon_{eff}) + \\e\n",
       "──────────────────────────────────────────────────────────────────────────────\n",
       "                     2      2      2                                          \n",
       "                   qₓ  + q_y  + q_z                                           \n",
       "\n",
       "                2                                      ⎞    \n",
       "psilon_\\perp⋅q_y ⋅(\\epsilon_\\parallel - \\epsilon_{eff})⎠    \n",
       "──────────────────────────────────────────────────────── = 0\n",
       "                                                            \n",
       "                                                            "
      ]
     },
     "execution_count": 28,
     "metadata": {},
     "output_type": "execute_result"
    }
   ],
   "source": [
    "frensel_eq = Eq(\n",
    "    s[0]**2*Eps_per*(Eps_eff - Eps_per)*(Eps_eff - Eps_par)+\n",
    "    s[1]**2*Eps_per*(Eps_eff - Eps_per)*(Eps_eff - Eps_par)+\n",
    "    s[2]**2*Eps_par*(Eps_eff - Eps_per)*(Eps_eff - Eps_per),\n",
    "    0\n",
    "  )\n",
    "simplify(frensel_eq)"
   ]
  },
  {
   "cell_type": "code",
   "execution_count": 26,
   "metadata": {
    "collapsed": false
   },
   "outputs": [
    {
     "data": {
      "image/png": "[encoded data removed]",
      "text/latex": [
       "$$\\left [ \\frac{1}{\\epsilon_{\\parallel} q_{z}^{2} + \\epsilon_{\\perp} q_{x}^{2} + \\epsilon_{\\perp} q_{y}^{2}} \\left(\\frac{\\epsilon_{\\perp}}{2} \\left(\\epsilon_{\\parallel} q_{x}^{2} + \\epsilon_{\\parallel} q_{y}^{2} + 2 \\epsilon_{\\parallel} q_{z}^{2} + \\epsilon_{\\perp} q_{x}^{2} + \\epsilon_{\\perp} q_{y}^{2}\\right) - \\frac{1}{2} \\sqrt{\\epsilon_{\\perp}^{2} \\left(\\epsilon_{\\parallel} - \\epsilon_{\\perp}\\right)^{2} \\left(q_{x}^{2} + q_{y}^{2}\\right)^{2}}\\right), \\quad \\frac{1}{\\epsilon_{\\parallel} q_{z}^{2} + \\epsilon_{\\perp} q_{x}^{2} + \\epsilon_{\\perp} q_{y}^{2}} \\left(\\frac{\\epsilon_{\\perp}}{2} \\left(\\epsilon_{\\parallel} q_{x}^{2} + \\epsilon_{\\parallel} q_{y}^{2} + 2 \\epsilon_{\\parallel} q_{z}^{2} + \\epsilon_{\\perp} q_{x}^{2} + \\epsilon_{\\perp} q_{y}^{2}\\right) + \\frac{1}{2} \\sqrt{\\epsilon_{\\perp}^{2} \\left(\\epsilon_{\\parallel} - \\epsilon_{\\perp}\\right)^{2} \\left(q_{x}^{2} + q_{y}^{2}\\right)^{2}}\\right)\\right ]$$"
      ],
      "text/plain": [
       "⎡                                                                             \n",
       "⎢                                                                             \n",
       "⎢               ⎛                     2                         2             \n",
       "⎢\\epsilon_\\perp⋅⎝\\epsilon_\\parallel⋅qₓ  + \\epsilon_\\parallel⋅q_y  + 2⋅\\epsilon\n",
       "⎢─────────────────────────────────────────────────────────────────────────────\n",
       "⎢                                                                   2         \n",
       "⎢─────────────────────────────────────────────────────────────────────────────\n",
       "⎢                                                                             \n",
       "⎣                                                                          \\ep\n",
       "\n",
       "                                                                  ____________\n",
       "                                                                 ╱            \n",
       "              2                    2                     2⎞     ╱             \n",
       "_\\parallel⋅q_z  + \\epsilon_\\perp⋅qₓ  + \\epsilon_\\perp⋅q_y ⎠   ╲╱   \\epsilon_\\p\n",
       "─────────────────────────────────────────────────────────── - ────────────────\n",
       "                                                                              \n",
       "──────────────────────────────────────────────────────────────────────────────\n",
       "                   2                    2                     2               \n",
       "silon_\\parallel⋅q_z  + \\epsilon_\\perp⋅qₓ  + \\epsilon_\\perp⋅q_y                \n",
       "\n",
       "__________________________________________________________                    \n",
       "                                                        2                     \n",
       "   2                                      2 ⎛  2      2⎞                   ⎛  \n",
       "erp ⋅(\\epsilon_\\parallel - \\epsilon_\\perp) ⋅⎝qₓ  + q_y ⎠    \\epsilon_\\perp⋅⎝\\e\n",
       "──────────────────────────────────────────────────────────  ──────────────────\n",
       "                    2                                                         \n",
       "──────────────────────────────────────────────────────────, ──────────────────\n",
       "                                                                              \n",
       "                                                                              \n",
       "\n",
       "                                                                              \n",
       "                                                                              \n",
       "                   2                         2                           2    \n",
       "psilon_\\parallel⋅qₓ  + \\epsilon_\\parallel⋅q_y  + 2⋅\\epsilon_\\parallel⋅q_z  + \\\n",
       "──────────────────────────────────────────────────────────────────────────────\n",
       "                                                 2                            \n",
       "──────────────────────────────────────────────────────────────────────────────\n",
       "                                                                              \n",
       "                                                        \\epsilon_\\parallel⋅q_z\n",
       "\n",
       "                                               _______________________________\n",
       "                                              ╱                               \n",
       "                2                     2⎞     ╱                2               \n",
       "epsilon_\\perp⋅qₓ  + \\epsilon_\\perp⋅q_y ⎠   ╲╱   \\epsilon_\\perp ⋅(\\epsilon_\\par\n",
       "──────────────────────────────────────── + ───────────────────────────────────\n",
       "                                                                              \n",
       "──────────────────────────────────────────────────────────────────────────────\n",
       "2                    2                     2                                  \n",
       "  + \\epsilon_\\perp⋅qₓ  + \\epsilon_\\perp⋅q_y                                   \n",
       "\n",
       "_______________________________________⎤\n",
       "                                     2 ⎥\n",
       "                       2 ⎛  2      2⎞  ⎥\n",
       "allel - \\epsilon_\\perp) ⋅⎝qₓ  + q_y ⎠  ⎥\n",
       "───────────────────────────────────────⎥\n",
       " 2                                     ⎥\n",
       "───────────────────────────────────────⎥\n",
       "                                       ⎥\n",
       "                                       ⎦"
      ]
     },
     "execution_count": 26,
     "metadata": {},
     "output_type": "execute_result"
    }
   ],
   "source": [
    "Eps_eff_sol = solve(frensel_eq, [Eps_eff])\n",
    "Eps_eff_sol"
   ]
  },
  {
   "cell_type": "code",
   "execution_count": 33,
   "metadata": {
    "collapsed": false
   },
   "outputs": [
    {
     "data": {
      "image/png": "[encoded data removed]",
      "text/latex": [
       "$$\\left[\\begin{matrix}\\tilde{\\infty}\\\\\\tilde{\\infty}\\\\\\tilde{\\infty}\\end{matrix}\\right]$$"
      ],
      "text/plain": [
       "⎡zoo⎤\n",
       "⎢   ⎥\n",
       "⎢zoo⎥\n",
       "⎢   ⎥\n",
       "⎣zoo⎦"
      ]
     },
     "execution_count": 33,
     "metadata": {},
     "output_type": "execute_result"
    }
   ],
   "source": [
    "simplify(Matrix([\n",
    "        s[0]/(Eps_eff_sol[0]-Eps_per),\n",
    "        s[1]/(Eps_eff_sol[0]-Eps_per),\n",
    "        s[2]/(Eps_eff_sol[0]-Eps_per)\n",
    "    ])).subs({qx:1, qy:1, qz:1, Eps_per:1, Eps_par:2})"
   ]
  },
  {
   "cell_type": "code",
   "execution_count": null,
   "metadata": {
    "collapsed": true
   },
   "outputs": [],
   "source": []
  }
 ],
 "metadata": {
  "kernelspec": {
   "display_name": "Python 3",
   "language": "python",
   "name": "python3"
  },
  "language_info": {
   "codemirror_mode": {
    "name": "ipython",
    "version": 3
   },
   "file_extension": ".py",
   "mimetype": "text/x-python",
   "name": "python",
   "nbconvert_exporter": "python",
   "pygments_lexer": "ipython3",
   "version": "3.4.3"
  }
 },
 "nbformat": 4,
 "nbformat_minor": 0
}
