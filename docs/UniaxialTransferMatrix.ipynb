{
 "cells": [
  {
   "cell_type": "code",
   "execution_count": 2,
   "metadata": {
    "collapsed": false
   },
   "outputs": [],
   "source": [
    "from sympy import *\n",
    "import numpy as np\n",
    "init_printing()"
   ]
  },
  {
   "cell_type": "markdown",
   "metadata": {},
   "source": [
    "Symbols\n",
    "----"
   ]
  },
  {
   "cell_type": "code",
   "execution_count": 3,
   "metadata": {
    "collapsed": true
   },
   "outputs": [],
   "source": [
    "H, Hx, Hy, Hz = symbols('H, H_x, H_y, H_z')\n",
    "E, Ex, Ey, Ez = symbols('E, E_x, E_y, E_z')\n",
    "k, kx, ky, kz = symbols('k, k_x, k_y, k_z')\n",
    "c, w, Eps_par, Eps_per = symbols('c, \\omega, \\epsilon_\\parallel, \\epsilon_\\perp')"
   ]
  },
  {
   "cell_type": "code",
   "execution_count": 4,
   "metadata": {
    "collapsed": false
   },
   "outputs": [
    {
     "data": {
      "image/png": "[encoded data removed]",
      "text/latex": [
       "$$\\left ( \\left[\\begin{matrix}H_{x}\\\\H_{y}\\\\H_{z}\\end{matrix}\\right], \\quad \\left[\\begin{matrix}E_{x}\\\\E_{y}\\\\E_{z}\\end{matrix}\\right], \\quad \\left[\\begin{matrix}\\frac{c k_{x}}{\\omega}\\\\\\frac{c k_{y}}{\\omega}\\\\\\frac{c k_{z}}{\\omega}\\end{matrix}\\right], \\quad \\left[\\begin{matrix}\\epsilon_{\\perp}\\\\\\epsilon_{\\perp}\\\\\\epsilon_{\\parallel}\\end{matrix}\\right]\\right )$$"
      ],
      "text/plain": [
       "⎛              ⎡ c⋅kₓ ⎤                      ⎞\n",
       "⎜⎡Hₓ ⎤, ⎡Eₓ ⎤, ⎢──────⎥, ⎡  \\epsilon_\\perp  ⎤⎟\n",
       "⎜⎢   ⎥  ⎢   ⎥  ⎢\\omega⎥  ⎢                  ⎥⎟\n",
       "⎜⎢H_y⎥  ⎢E_y⎥  ⎢      ⎥  ⎢  \\epsilon_\\perp  ⎥⎟\n",
       "⎜⎢   ⎥  ⎢   ⎥  ⎢c⋅k_y ⎥  ⎢                  ⎥⎟\n",
       "⎜⎣H_z⎦  ⎣E_z⎦  ⎢──────⎥  ⎣\\epsilon_\\parallel⎦⎟\n",
       "⎜              ⎢\\omega⎥                      ⎟\n",
       "⎜              ⎢      ⎥                      ⎟\n",
       "⎜              ⎢c⋅k_z ⎥                      ⎟\n",
       "⎜              ⎢──────⎥                      ⎟\n",
       "⎝              ⎣\\omega⎦                      ⎠"
      ]
     },
     "execution_count": 4,
     "metadata": {},
     "output_type": "execute_result"
    }
   ],
   "source": [
    "H = Matrix([\n",
    "        Hx,\n",
    "        Hy,\n",
    "        Hz\n",
    "    ])\n",
    "E = Matrix([\n",
    "        Ex,\n",
    "        Ey,\n",
    "        Ez\n",
    "    ])\n",
    "k = Matrix([\n",
    "        kx,\n",
    "        ky,\n",
    "        kz\n",
    "    ])\n",
    "q = (c/w)*k\n",
    "Eps = Matrix([\n",
    "        Eps_per,\n",
    "        Eps_per,\n",
    "        Eps_par\n",
    "    ])\n",
    "H, E, q, Eps"
   ]
  },
  {
   "cell_type": "markdown",
   "metadata": {},
   "source": [
    "Maxwell Equations\n",
    "--"
   ]
  },
  {
   "cell_type": "code",
   "execution_count": 5,
   "metadata": {
    "collapsed": false
   },
   "outputs": [],
   "source": [
    "rotE = Eq(q.cross(E), H)"
   ]
  },
  {
   "cell_type": "code",
   "execution_count": 6,
   "metadata": {
    "collapsed": false
   },
   "outputs": [],
   "source": [
    "rotH = Eq(q.cross(H), E.multiply_elementwise(Eps))"
   ]
  },
  {
   "cell_type": "code",
   "execution_count": 7,
   "metadata": {
    "collapsed": false
   },
   "outputs": [
    {
     "data": {
      "image/png": "[encoded data removed]",
      "text/latex": [
       "$$\\left ( \\left[\\begin{matrix}- \\frac{E_{y} c}{\\omega} k_{z} + \\frac{E_{z} c}{\\omega} k_{y}\\\\\\frac{E_{x} c}{\\omega} k_{z} - \\frac{E_{z} c}{\\omega} k_{x}\\\\- \\frac{E_{x} c}{\\omega} k_{y} + \\frac{E_{y} c}{\\omega} k_{x}\\end{matrix}\\right] = \\left[\\begin{matrix}H_{x}\\\\H_{y}\\\\H_{z}\\end{matrix}\\right], \\quad \\left[\\begin{matrix}- \\frac{H_{y} c}{\\omega} k_{z} + \\frac{H_{z} c}{\\omega} k_{y}\\\\\\frac{H_{x} c}{\\omega} k_{z} - \\frac{H_{z} c}{\\omega} k_{x}\\\\- \\frac{H_{x} c}{\\omega} k_{y} + \\frac{H_{y} c}{\\omega} k_{x}\\end{matrix}\\right] = \\left[\\begin{matrix}E_{x} \\epsilon_{\\perp}\\\\E_{y} \\epsilon_{\\perp}\\\\E_{z} \\epsilon_{\\parallel}\\end{matrix}\\right]\\right )$$"
      ],
      "text/plain": [
       "⎛⎡  E_y⋅c⋅k_z   E_z⋅c⋅k_y⎤          ⎡  H_y⋅c⋅k_z   H_z⋅c⋅k_y⎤                 \n",
       "⎜⎢- ───────── + ─────────⎥ = ⎡Hₓ ⎤, ⎢- ───────── + ─────────⎥ = ⎡  Eₓ⋅\\epsilon\n",
       "⎜⎢    \\omega      \\omega ⎥   ⎢   ⎥  ⎢    \\omega      \\omega ⎥   ⎢             \n",
       "⎜⎢                       ⎥   ⎢H_y⎥  ⎢                       ⎥   ⎢  E_y⋅\\epsilo\n",
       "⎜⎢  Eₓ⋅c⋅k_z   E_z⋅c⋅kₓ  ⎥   ⎢   ⎥  ⎢  Hₓ⋅c⋅k_z   H_z⋅c⋅kₓ  ⎥   ⎢             \n",
       "⎜⎢  ──────── - ────────  ⎥   ⎣H_z⎦  ⎢  ──────── - ────────  ⎥   ⎣E_z⋅\\epsilon_\n",
       "⎜⎢   \\omega     \\omega   ⎥          ⎢   \\omega     \\omega   ⎥                 \n",
       "⎜⎢                       ⎥          ⎢                       ⎥                 \n",
       "⎜⎢   Eₓ⋅c⋅k_y   E_y⋅c⋅kₓ ⎥          ⎢   Hₓ⋅c⋅k_y   H_y⋅c⋅kₓ ⎥                 \n",
       "⎜⎢ - ──────── + ──────── ⎥          ⎢ - ──────── + ──────── ⎥                 \n",
       "⎝⎣    \\omega     \\omega  ⎦          ⎣    \\omega     \\omega  ⎦                 \n",
       "\n",
       "          ⎞\n",
       "_\\perp   ⎤⎟\n",
       "         ⎥⎟\n",
       "n_\\perp  ⎥⎟\n",
       "         ⎥⎟\n",
       "\\parallel⎦⎟\n",
       "          ⎟\n",
       "          ⎟\n",
       "          ⎟\n",
       "          ⎟\n",
       "          ⎠"
      ]
     },
     "execution_count": 7,
     "metadata": {},
     "output_type": "execute_result"
    }
   ],
   "source": [
    "rotE, rotH"
   ]
  },
  {
   "cell_type": "markdown",
   "metadata": {},
   "source": [
    "Simple\n",
    "---\n",
    "$k_y = 0$\n"
   ]
  },
  {
   "cell_type": "code",
   "execution_count": 8,
   "metadata": {
    "collapsed": false
   },
   "outputs": [
    {
     "data": {
      "image/png": "[encoded data removed]",
      "text/latex": [
       "$$\\left ( \\left[\\begin{matrix}- \\frac{E_{y} c}{\\omega} k_{z}\\\\\\frac{E_{x} c}{\\omega} k_{z} - \\frac{E_{z} c}{\\omega} k_{x}\\\\\\frac{E_{y} c}{\\omega} k_{x}\\end{matrix}\\right] = \\left[\\begin{matrix}H_{x}\\\\H_{y}\\\\H_{z}\\end{matrix}\\right], \\quad \\left[\\begin{matrix}- \\frac{H_{y} c}{\\omega} k_{z}\\\\\\frac{H_{x} c}{\\omega} k_{z} - \\frac{H_{z} c}{\\omega} k_{x}\\\\\\frac{H_{y} c}{\\omega} k_{x}\\end{matrix}\\right] = \\left[\\begin{matrix}E_{x} \\epsilon_{\\perp}\\\\E_{y} \\epsilon_{\\perp}\\\\E_{z} \\epsilon_{\\parallel}\\end{matrix}\\right]\\right )$$"
      ],
      "text/plain": [
       "⎛⎡    -E_y⋅c⋅k_z     ⎤          ⎡    -H_y⋅c⋅k_z     ⎤                         \n",
       "⎜⎢    ───────────    ⎥ = ⎡Hₓ ⎤, ⎢    ───────────    ⎥ = ⎡  Eₓ⋅\\epsilon_\\perp  \n",
       "⎜⎢       \\omega      ⎥   ⎢   ⎥  ⎢       \\omega      ⎥   ⎢                     \n",
       "⎜⎢                   ⎥   ⎢H_y⎥  ⎢                   ⎥   ⎢  E_y⋅\\epsilon_\\perp \n",
       "⎜⎢Eₓ⋅c⋅k_z   E_z⋅c⋅kₓ⎥   ⎢   ⎥  ⎢Hₓ⋅c⋅k_z   H_z⋅c⋅kₓ⎥   ⎢                     \n",
       "⎜⎢──────── - ────────⎥   ⎣H_z⎦  ⎢──────── - ────────⎥   ⎣E_z⋅\\epsilon_\\paralle\n",
       "⎜⎢ \\omega     \\omega ⎥          ⎢ \\omega     \\omega ⎥                         \n",
       "⎜⎢                   ⎥          ⎢                   ⎥                         \n",
       "⎜⎢     E_y⋅c⋅kₓ      ⎥          ⎢     H_y⋅c⋅kₓ      ⎥                         \n",
       "⎜⎢     ────────      ⎥          ⎢     ────────      ⎥                         \n",
       "⎝⎣      \\omega       ⎦          ⎣      \\omega       ⎦                         \n",
       "\n",
       "  ⎞\n",
       " ⎤⎟\n",
       " ⎥⎟\n",
       " ⎥⎟\n",
       " ⎥⎟\n",
       "l⎦⎟\n",
       "  ⎟\n",
       "  ⎟\n",
       "  ⎟\n",
       "  ⎟\n",
       "  ⎠"
      ]
     },
     "execution_count": 8,
     "metadata": {},
     "output_type": "execute_result"
    }
   ],
   "source": [
    "rotE.subs({ky:0}), rotH.subs({ky:0})"
   ]
  },
  {
   "cell_type": "markdown",
   "metadata": {
    "collapsed": false
   },
   "source": [
    "Ordinary Wave\n",
    "---\n",
    "$E_x = 0$"
   ]
  },
  {
   "cell_type": "code",
   "execution_count": 9,
   "metadata": {
    "collapsed": false
   },
   "outputs": [
    {
     "data": {
      "image/png": "[encoded data removed]",
      "text/latex": [
       "$$\\left[\\begin{matrix}-1 & - \\frac{c k_{z}}{\\omega} & 0\\\\- \\frac{c k_{z}}{\\omega} & - \\epsilon_{\\perp} & \\frac{c k_{x}}{\\omega}\\\\0 & \\frac{c k_{x}}{\\omega} & -1\\end{matrix}\\right]$$"
      ],
      "text/plain": [
       "⎡             -c⋅k_z             ⎤\n",
       "⎢  -1         ───────        0   ⎥\n",
       "⎢              \\omega            ⎥\n",
       "⎢                                ⎥\n",
       "⎢-c⋅k_z                     c⋅kₓ ⎥\n",
       "⎢───────  -\\epsilon_\\perp  ──────⎥\n",
       "⎢ \\omega                   \\omega⎥\n",
       "⎢                                ⎥\n",
       "⎢              c⋅kₓ              ⎥\n",
       "⎢   0         ──────         -1  ⎥\n",
       "⎣             \\omega             ⎦"
      ]
     },
     "execution_count": 9,
     "metadata": {},
     "output_type": "execute_result"
    }
   ],
   "source": [
    "MaxwellMatrix = Matrix([\n",
    "        [-1, -q[2], 0],\n",
    "        [-q[2], -Eps_per, q[0]],\n",
    "        [0, q[0], -1]\n",
    "])\n",
    "MaxwellMatrix"
   ]
  },
  {
   "cell_type": "code",
   "execution_count": 10,
   "metadata": {
    "collapsed": false
   },
   "outputs": [],
   "source": [
    "Sol = solve(Eq(MaxwellMatrix.det(), 0), Eps_per)[0]"
   ]
  },
  {
   "cell_type": "code",
   "execution_count": 11,
   "metadata": {
    "collapsed": false
   },
   "outputs": [
    {
     "data": {
      "image/png": "[encoded data removed]",
      "text/latex": [
       "$$\\left[\\begin{matrix}-1 & - \\frac{c k_{z}}{\\omega} & 0\\\\- \\frac{c k_{z}}{\\omega} & - \\frac{c^{2}}{\\omega^{2}} \\left(k_{x}^{2} + k_{z}^{2}\\right) & \\frac{c k_{x}}{\\omega}\\\\0 & \\frac{c k_{x}}{\\omega} & -1\\end{matrix}\\right]$$"
      ],
      "text/plain": [
       "⎡              -c⋅k_z              ⎤\n",
       "⎢  -1          ───────         0   ⎥\n",
       "⎢               \\omega             ⎥\n",
       "⎢                                  ⎥\n",
       "⎢           2 ⎛  2      2⎞         ⎥\n",
       "⎢-c⋅k_z   -c ⋅⎝kₓ  + k_z ⎠    c⋅kₓ ⎥\n",
       "⎢───────  ─────────────────  ──────⎥\n",
       "⎢ \\omega             2       \\omega⎥\n",
       "⎢              \\omega              ⎥\n",
       "⎢                                  ⎥\n",
       "⎢               c⋅kₓ               ⎥\n",
       "⎢   0          ──────          -1  ⎥\n",
       "⎣              \\omega              ⎦"
      ]
     },
     "execution_count": 11,
     "metadata": {},
     "output_type": "execute_result"
    }
   ],
   "source": [
    "MaxwellMatrix = MaxwellMatrix.subs({Eps_per:Sol})\n",
    "MaxwellMatrix"
   ]
  },
  {
   "cell_type": "code",
   "execution_count": 12,
   "metadata": {
    "collapsed": false
   },
   "outputs": [],
   "source": [
    "FieldVars = Matrix([\n",
    "        Hx,\n",
    "        Ey,\n",
    "        Hz\n",
    "    ])"
   ]
  },
  {
   "cell_type": "code",
   "execution_count": 13,
   "metadata": {
    "collapsed": false
   },
   "outputs": [
    {
     "data": {
      "image/png": "[encoded data removed]",
      "text/latex": [
       "$$\\left [ - \\frac{E_{y} c}{\\omega} k_{z} - H_{x} = 0, \\quad - \\frac{E_{y} c^{2}}{\\omega^{2}} \\left(k_{x}^{2} + k_{z}^{2}\\right) - \\frac{H_{x} c}{\\omega} k_{z} + \\frac{H_{z} c}{\\omega} k_{x} = 0, \\quad \\frac{E_{y} c}{\\omega} k_{x} - H_{z} = 0\\right ]$$"
      ],
      "text/plain": [
       "⎡                             2 ⎛  2      2⎞                                  \n",
       "⎢  E_y⋅c⋅k_z             E_y⋅c ⋅⎝kₓ  + k_z ⎠   Hₓ⋅c⋅k_z   H_z⋅c⋅kₓ      E_y⋅c⋅\n",
       "⎢- ───────── - Hₓ = 0, - ─────────────────── - ──────── + ──────── = 0, ──────\n",
       "⎢    \\omega                          2          \\omega     \\omega        \\omeg\n",
       "⎣                              \\omega                                         \n",
       "\n",
       "            ⎤\n",
       "kₓ          ⎥\n",
       "── - H_z = 0⎥\n",
       "a           ⎥\n",
       "            ⎦"
      ]
     },
     "execution_count": 13,
     "metadata": {},
     "output_type": "execute_result"
    }
   ],
   "source": [
    "equations = [Eq(MaxwellMatrix.dot(FieldVars)[0], 0),\n",
    "             Eq(MaxwellMatrix.dot(FieldVars)[1], 0),\n",
    "             Eq(MaxwellMatrix.dot(FieldVars)[2], 0)\n",
    "             ]\n",
    "equations"
   ]
  },
  {
   "cell_type": "code",
   "execution_count": 14,
   "metadata": {
    "collapsed": false
   },
   "outputs": [
    {
     "data": {
      "image/png": "[encoded data removed]",
      "text/latex": [
       "$$\\left[\\begin{matrix}- \\frac{c k_{z}}{\\omega}\\\\1\\\\\\frac{c k_{x}}{\\omega}\\end{matrix}\\right]$$"
      ],
      "text/plain": [
       "⎡-c⋅k_z ⎤\n",
       "⎢───────⎥\n",
       "⎢ \\omega⎥\n",
       "⎢       ⎥\n",
       "⎢   1   ⎥\n",
       "⎢       ⎥\n",
       "⎢ c⋅kₓ  ⎥\n",
       "⎢────── ⎥\n",
       "⎣\\omega ⎦"
      ]
     },
     "execution_count": 14,
     "metadata": {},
     "output_type": "execute_result"
    }
   ],
   "source": [
    "Solution = solve([equations[0], equations[2]], [Hx, Hz])\n",
    "OrdinaryPolarization = (Matrix([\n",
    "        Solution[Hx],\n",
    "        Ey,\n",
    "        Solution[Hz] \n",
    "    ]))/Ey\n",
    "OrdinaryPolarization"
   ]
  },
  {
   "cell_type": "markdown",
   "metadata": {},
   "source": [
    "Extraordinary Wave\n",
    "---\n",
    "$E_y = 0$"
   ]
  },
  {
   "cell_type": "code",
   "execution_count": 15,
   "metadata": {
    "collapsed": false
   },
   "outputs": [
    {
     "data": {
      "image/png": "[encoded data removed]",
      "text/latex": [
       "$$\\left[\\begin{matrix}\\frac{c k_{z}}{\\omega} & - \\epsilon_{\\perp} & 0\\\\-1 & \\frac{c k_{z}}{\\omega} & - \\frac{c k_{x}}{\\omega}\\\\- \\frac{c k_{x}}{\\omega} & 0 & - \\epsilon_{\\parallel}\\end{matrix}\\right]$$"
      ],
      "text/plain": [
       "⎡c⋅k_z                                       ⎤\n",
       "⎢──────  -\\epsilon_\\perp           0         ⎥\n",
       "⎢\\omega                                      ⎥\n",
       "⎢                                            ⎥\n",
       "⎢            c⋅k_z              -c⋅kₓ        ⎥\n",
       "⎢  -1        ──────             ──────       ⎥\n",
       "⎢            \\omega             \\omega       ⎥\n",
       "⎢                                            ⎥\n",
       "⎢-c⋅kₓ                                       ⎥\n",
       "⎢──────         0         -\\epsilon_\\parallel⎥\n",
       "⎣\\omega                                      ⎦"
      ]
     },
     "execution_count": 15,
     "metadata": {},
     "output_type": "execute_result"
    }
   ],
   "source": [
    "MaxwellMatrix = Matrix([\n",
    "        [q[2], -Eps_per, 0],\n",
    "        [-1, q[2], -q[0]],\n",
    "        [-q[0], 0, -Eps_par]\n",
    "])\n",
    "MaxwellMatrix"
   ]
  },
  {
   "cell_type": "code",
   "execution_count": 16,
   "metadata": {
    "collapsed": true
   },
   "outputs": [],
   "source": [
    "Sol_per = solve(Eq(MaxwellMatrix.det(), 0), Eps_per)[0]\n",
    "Sol_par = solve(Eq(MaxwellMatrix.det(), 0), Eps_par)[0]"
   ]
  },
  {
   "cell_type": "code",
   "execution_count": 17,
   "metadata": {
    "collapsed": false
   },
   "outputs": [
    {
     "data": {
      "image/png": "[encoded data removed]",
      "text/latex": [
       "$$\\left[\\begin{matrix}\\frac{c k_{z}}{\\omega} & - \\frac{\\epsilon_{\\parallel} c^{2} k_{z}^{2}}{\\epsilon_{\\parallel} \\omega^{2} - c^{2} k_{x}^{2}} & 0\\\\-1 & \\frac{c k_{z}}{\\omega} & - \\frac{c k_{x}}{\\omega}\\\\- \\frac{c k_{x}}{\\omega} & 0 & - \\epsilon_{\\parallel}\\end{matrix}\\right]$$"
      ],
      "text/plain": [
       "⎡                                 2    2                         ⎤\n",
       "⎢c⋅k_z       -\\epsilon_\\parallel⋅c ⋅k_z                          ⎥\n",
       "⎢──────  ───────────────────────────────────           0         ⎥\n",
       "⎢\\omega                           2    2   2                     ⎥\n",
       "⎢        \\epsilon_\\parallel⋅\\omega  - c ⋅kₓ                      ⎥\n",
       "⎢                                                                ⎥\n",
       "⎢                      c⋅k_z                        -c⋅kₓ        ⎥\n",
       "⎢  -1                  ──────                       ──────       ⎥\n",
       "⎢                      \\omega                       \\omega       ⎥\n",
       "⎢                                                                ⎥\n",
       "⎢-c⋅kₓ                                                           ⎥\n",
       "⎢──────                   0                   -\\epsilon_\\parallel⎥\n",
       "⎣\\omega                                                          ⎦"
      ]
     },
     "execution_count": 17,
     "metadata": {},
     "output_type": "execute_result"
    }
   ],
   "source": [
    "MaxwellMatrix = MaxwellMatrix.subs({Eps_per:Sol_per})\n",
    "MaxwellMatrix"
   ]
  },
  {
   "cell_type": "code",
   "execution_count": 18,
   "metadata": {
    "collapsed": true
   },
   "outputs": [],
   "source": [
    "FieldVars = Matrix([\n",
    "        Hy,\n",
    "        Ex,\n",
    "        Ez\n",
    "    ])"
   ]
  },
  {
   "cell_type": "code",
   "execution_count": 19,
   "metadata": {
    "collapsed": false
   },
   "outputs": [
    {
     "data": {
      "image/png": "[encoded data removed]",
      "text/latex": [
       "$$\\left [ - \\frac{E_{x} \\epsilon_{\\parallel} c^{2} k_{z}^{2}}{\\epsilon_{\\parallel} \\omega^{2} - c^{2} k_{x}^{2}} + \\frac{H_{y} c}{\\omega} k_{z} = 0, \\quad \\frac{E_{x} c}{\\omega} k_{z} - \\frac{E_{z} c}{\\omega} k_{x} - H_{y} = 0, \\quad - E_{z} \\epsilon_{\\parallel} - \\frac{H_{y} c}{\\omega} k_{x} = 0\\right ]$$"
      ],
      "text/plain": [
       "⎡                            2    2                                           \n",
       "⎢     Eₓ⋅\\epsilon_\\parallel⋅c ⋅k_z       H_y⋅c⋅k_z      Eₓ⋅c⋅k_z   E_z⋅c⋅kₓ   \n",
       "⎢- ─────────────────────────────────── + ───────── = 0, ──────── - ──────── - \n",
       "⎢                           2    2   2     \\omega        \\omega     \\omega    \n",
       "⎣  \\epsilon_\\parallel⋅\\omega  - c ⋅kₓ                                         \n",
       "\n",
       "                                               ⎤\n",
       "                                   H_y⋅c⋅kₓ    ⎥\n",
       "H_y = 0, -E_z⋅\\epsilon_\\parallel - ──────── = 0⎥\n",
       "                                    \\omega     ⎥\n",
       "                                               ⎦"
      ]
     },
     "execution_count": 19,
     "metadata": {},
     "output_type": "execute_result"
    }
   ],
   "source": [
    "equations = [Eq(MaxwellMatrix.dot(FieldVars)[0], 0),\n",
    "             Eq(MaxwellMatrix.dot(FieldVars)[1], 0),\n",
    "             Eq(MaxwellMatrix.dot(FieldVars)[2], 0)\n",
    "             ]\n",
    "equations"
   ]
  },
  {
   "cell_type": "code",
   "execution_count": 20,
   "metadata": {
    "collapsed": false
   },
   "outputs": [
    {
     "data": {
      "image/png": "[encoded data removed]",
      "text/latex": [
       "$$\\left[\\begin{matrix}\\epsilon_{\\perp}\\\\\\frac{c k_{z}}{\\omega}\\\\- \\frac{\\epsilon_{\\perp} c k_{x}}{\\epsilon_{\\parallel} \\omega}\\end{matrix}\\right]$$"
      ],
      "text/plain": [
       "⎡     \\epsilon_\\perp      ⎤\n",
       "⎢                         ⎥\n",
       "⎢         c⋅k_z           ⎥\n",
       "⎢         ──────          ⎥\n",
       "⎢         \\omega          ⎥\n",
       "⎢                         ⎥\n",
       "⎢  -\\epsilon_\\perp⋅c⋅kₓ   ⎥\n",
       "⎢─────────────────────────⎥\n",
       "⎣\\epsilon_\\parallel⋅\\omega⎦"
      ]
     },
     "execution_count": 20,
     "metadata": {},
     "output_type": "execute_result"
    }
   ],
   "source": [
    "Solution = solve([equations[0], equations[2]], [Ex, Ez])\n",
    "ExtraordinaryPolarization = simplify(Matrix([\n",
    "            Hy,\n",
    "            Solution[Ex].subs({Eps_par:Sol_par}),\n",
    "            Solution[Ez] \n",
    "    ])*Eps_per/Hy)\n",
    "ExtraordinaryPolarization"
   ]
  },
  {
   "cell_type": "markdown",
   "metadata": {},
   "source": [
    "Eigenmodes\n",
    "--"
   ]
  },
  {
   "cell_type": "code",
   "execution_count": 21,
   "metadata": {
    "collapsed": false
   },
   "outputs": [
    {
     "data": {
      "image/png": "[encoded data removed]",
      "text/latex": [
       "$$\\left ( \\left[\\begin{matrix}- \\frac{c k_{z}}{\\omega}\\\\1\\\\\\frac{c k_{x}}{\\omega}\\end{matrix}\\right], \\quad \\left[\\begin{matrix}\\epsilon_{\\perp}\\\\\\frac{c k_{z}}{\\omega}\\\\- \\frac{\\epsilon_{\\perp} c k_{x}}{\\epsilon_{\\parallel} \\omega}\\end{matrix}\\right]\\right )$$"
      ],
      "text/plain": [
       "⎛⎡-c⋅k_z ⎤                             ⎞\n",
       "⎜⎢───────⎥, ⎡     \\epsilon_\\perp      ⎤⎟\n",
       "⎜⎢ \\omega⎥  ⎢                         ⎥⎟\n",
       "⎜⎢       ⎥  ⎢         c⋅k_z           ⎥⎟\n",
       "⎜⎢   1   ⎥  ⎢         ──────          ⎥⎟\n",
       "⎜⎢       ⎥  ⎢         \\omega          ⎥⎟\n",
       "⎜⎢ c⋅kₓ  ⎥  ⎢                         ⎥⎟\n",
       "⎜⎢────── ⎥  ⎢  -\\epsilon_\\perp⋅c⋅kₓ   ⎥⎟\n",
       "⎜⎣\\omega ⎦  ⎢─────────────────────────⎥⎟\n",
       "⎝           ⎣\\epsilon_\\parallel⋅\\omega⎦⎠"
      ]
     },
     "execution_count": 21,
     "metadata": {},
     "output_type": "execute_result"
    }
   ],
   "source": [
    "OrdinaryPolarization, ExtraordinaryPolarization"
   ]
  },
  {
   "cell_type": "markdown",
   "metadata": {
    "collapsed": true
   },
   "source": [
    "General Solution\n",
    "---"
   ]
  },
  {
   "cell_type": "code",
   "execution_count": 22,
   "metadata": {
    "collapsed": false
   },
   "outputs": [],
   "source": [
    "rotE = q.cross(E) - H\n",
    "rotH = q.cross(H) - E.multiply_elementwise(Eps)\n",
    "c1, c2, c3, c4, c5, c6 = symbols('c1, c2, c3, c4, c5, c6', cls=Wild)\n",
    "#C = Matrix([c1, c2, c3, c4, c5, c6])\n",
    "#C.match\n",
    "rotE = [rot.match(c1*Ex + c2*Ey + c3*Ez + c4*Hx + c5*Hy + c6*Hz) for rot in rotE]\n",
    "rotH = [rot.match(c1*Ex + c2*Ey + c3*Ez + c4*Hx + c5*Hy + c6*Hz) for rot in rotH]\n",
    "#\n",
    "MaxwellMatrix = zeros(6)\n",
    "MaxwellMatrix[0,0]=rotH[0][c1]\n",
    "MaxwellMatrix[0,1]=rotH[0][c2]\n",
    "MaxwellMatrix[0,2]=rotH[0][c3]\n",
    "MaxwellMatrix[0,3]=rotH[0][c4]\n",
    "MaxwellMatrix[0,4]=rotH[0][c5]\n",
    "MaxwellMatrix[0,5]=rotH[0][c6]\n",
    "#\n",
    "MaxwellMatrix[1,0]=rotH[1][c1]\n",
    "MaxwellMatrix[1,1]=rotH[1][c2]\n",
    "MaxwellMatrix[1,2]=rotH[1][c3]\n",
    "MaxwellMatrix[1,3]=rotH[1][c4]\n",
    "MaxwellMatrix[1,4]=rotH[1][c5]\n",
    "MaxwellMatrix[1,5]=rotH[1][c6]\n",
    "#\n",
    "MaxwellMatrix[2,0]=rotH[2][c1]\n",
    "MaxwellMatrix[2,1]=rotH[2][c2]\n",
    "MaxwellMatrix[2,2]=rotH[2][c3]\n",
    "MaxwellMatrix[2,3]=rotH[2][c4]\n",
    "MaxwellMatrix[2,4]=rotH[2][c5]\n",
    "MaxwellMatrix[2,5]=rotH[2][c6]\n",
    "#\n",
    "#\n",
    "MaxwellMatrix[3,0]=rotE[0][c1]\n",
    "MaxwellMatrix[3,1]=rotE[0][c2]\n",
    "MaxwellMatrix[3,2]=rotE[0][c3]\n",
    "MaxwellMatrix[3,3]=rotE[0][c4]\n",
    "MaxwellMatrix[3,4]=rotE[0][c5]\n",
    "MaxwellMatrix[3,5]=rotE[0][c6]\n",
    "#\n",
    "MaxwellMatrix[4,0]=rotE[1][c1]\n",
    "MaxwellMatrix[4,1]=rotE[1][c2]\n",
    "MaxwellMatrix[4,2]=rotE[1][c3]\n",
    "MaxwellMatrix[4,3]=rotE[1][c4]\n",
    "MaxwellMatrix[4,4]=rotE[1][c5]\n",
    "MaxwellMatrix[4,5]=rotE[1][c6]\n",
    "#\n",
    "MaxwellMatrix[5,0]=rotE[2][c1]\n",
    "MaxwellMatrix[5,1]=rotE[2][c2]\n",
    "MaxwellMatrix[5,2]=rotE[2][c3]\n",
    "MaxwellMatrix[5,3]=rotE[2][c4]\n",
    "MaxwellMatrix[5,4]=rotE[2][c5]\n",
    "MaxwellMatrix[5,5]=rotE[2][c6]"
   ]
  },
  {
   "cell_type": "code",
   "execution_count": 35,
   "metadata": {
    "collapsed": false
   },
   "outputs": [
    {
     "data": {
      "image/png": "[encoded data removed]",
      "text/latex": [
       "$$\\left ( \\left[\\begin{matrix}- \\epsilon_{\\perp} & 0 & 0 & 0 & - \\frac{c k_{z}}{\\omega} & \\frac{c k_{y}}{\\omega}\\\\0 & - \\epsilon_{\\perp} & 0 & \\frac{c k_{z}}{\\omega} & 0 & - \\frac{c k_{x}}{\\omega}\\\\0 & 0 & - \\epsilon_{\\parallel} & - \\frac{c k_{y}}{\\omega} & \\frac{c k_{x}}{\\omega} & 0\\\\0 & - \\frac{c k_{z}}{\\omega} & \\frac{c k_{y}}{\\omega} & -1 & 0 & 0\\\\\\frac{c k_{z}}{\\omega} & 0 & - \\frac{c k_{x}}{\\omega} & 0 & -1 & 0\\\\- \\frac{c k_{y}}{\\omega} & \\frac{c k_{x}}{\\omega} & 0 & 0 & 0 & -1\\end{matrix}\\right], \\quad \\epsilon_{\\parallel} \\epsilon_{\\perp}^{2} + \\epsilon_{\\parallel} \\epsilon_{\\perp} k_{x}^{2} + \\epsilon_{\\parallel} \\epsilon_{\\perp} k_{y}^{2} + 2 \\epsilon_{\\parallel} \\epsilon_{\\perp} k_{z}^{2} + \\epsilon_{\\parallel} k_{x}^{2} k_{z}^{2} + \\epsilon_{\\parallel} k_{y}^{2} k_{z}^{2} + \\epsilon_{\\parallel} k_{z}^{4} + \\epsilon_{\\perp}^{2} k_{x}^{2} + \\epsilon_{\\perp}^{2} k_{y}^{2} + \\epsilon_{\\perp} k_{x}^{4} + 2 \\epsilon_{\\perp} k_{x}^{2} k_{y}^{2} + \\epsilon_{\\perp} k_{x}^{2} k_{z}^{2} + \\epsilon_{\\perp} k_{y}^{4} + \\epsilon_{\\perp} k_{y}^{2} k_{z}^{2} = 0\\right )$$"
      ],
      "text/plain": [
       "⎛⎡                                                                -c⋅k_z   c⋅k\n",
       "⎜⎢-\\epsilon_\\perp         0                  0              0     ───────  ───\n",
       "⎜⎢                                                                 \\omega  \\om\n",
       "⎜⎢                                                                            \n",
       "⎜⎢                                                       c⋅k_z             -c⋅\n",
       "⎜⎢       0         -\\epsilon_\\perp           0           ──────      0     ───\n",
       "⎜⎢                                                       \\omega            \\om\n",
       "⎜⎢                                                                            \n",
       "⎜⎢                                                       -c⋅k_y    c⋅kₓ       \n",
       "⎜⎢       0                0         -\\epsilon_\\parallel  ───────  ──────     0\n",
       "⎜⎢                                                        \\omega  \\omega      \n",
       "⎜⎢                                                                            \n",
       "⎜⎢                     -c⋅k_z             c⋅k_y                               \n",
       "⎜⎢       0             ───────            ──────           -1        0       0\n",
       "⎜⎢                      \\omega            \\omega                              \n",
       "⎜⎢                                                                            \n",
       "⎜⎢    c⋅k_z                               -c⋅kₓ                               \n",
       "⎜⎢    ──────              0               ──────            0       -1       0\n",
       "⎜⎢    \\omega                              \\omega                              \n",
       "⎜⎢                                                                            \n",
       "⎜⎢    -c⋅k_y            c⋅kₓ                                                  \n",
       "⎜⎢    ───────          ──────                0              0        0       -\n",
       "⎝⎣     \\omega          \\omega                                                 \n",
       "\n",
       "_y ⎤                                   2                                      \n",
       "───⎥, \\epsilon_\\parallel⋅\\epsilon_\\perp  + \\epsilon_\\parallel⋅\\epsilon_\\perp⋅k\n",
       "ega⎥                                                                          \n",
       "   ⎥                                                                          \n",
       "kₓ ⎥                                                                          \n",
       "───⎥                                                                          \n",
       "ega⎥                                                                          \n",
       "   ⎥                                                                          \n",
       "   ⎥                                                                          \n",
       "   ⎥                                                                          \n",
       "   ⎥                                                                          \n",
       "   ⎥                                                                          \n",
       "   ⎥                                                                          \n",
       "   ⎥                                                                          \n",
       "   ⎥                                                                          \n",
       "   ⎥                                                                          \n",
       "   ⎥                                                                          \n",
       "   ⎥                                                                          \n",
       "   ⎥                                                                          \n",
       "   ⎥                                                                          \n",
       "   ⎥                                                                          \n",
       "1  ⎥                                                                          \n",
       "   ⎦                                                                          \n",
       "\n",
       " 2                                        2                                   \n",
       "ₓ  + \\epsilon_\\parallel⋅\\epsilon_\\perp⋅k_y  + 2⋅\\epsilon_\\parallel⋅\\epsilon_\\p\n",
       "                                                                              \n",
       "                                                                              \n",
       "                                                                              \n",
       "                                                                              \n",
       "                                                                              \n",
       "                                                                              \n",
       "                                                                              \n",
       "                                                                              \n",
       "                                                                              \n",
       "                                                                              \n",
       "                                                                              \n",
       "                                                                              \n",
       "                                                                              \n",
       "                                                                              \n",
       "                                                                              \n",
       "                                                                              \n",
       "                                                                              \n",
       "                                                                              \n",
       "                                                                              \n",
       "                                                                              \n",
       "                                                                              \n",
       "\n",
       "       2                        2    2                         2    2         \n",
       "erp⋅k_z  + \\epsilon_\\parallel⋅kₓ ⋅k_z  + \\epsilon_\\parallel⋅k_y ⋅k_z  + \\epsil\n",
       "                                                                              \n",
       "                                                                              \n",
       "                                                                              \n",
       "                                                                              \n",
       "                                                                              \n",
       "                                                                              \n",
       "                                                                              \n",
       "                                                                              \n",
       "                                                                              \n",
       "                                                                              \n",
       "                                                                              \n",
       "                                                                              \n",
       "                                                                              \n",
       "                                                                              \n",
       "                                                                              \n",
       "                                                                              \n",
       "                                                                              \n",
       "                                                                              \n",
       "                                                                              \n",
       "                                                                              \n",
       "                                                                              \n",
       "\n",
       "                4                 2   2                 2    2                \n",
       "on_\\parallel⋅k_z  + \\epsilon_\\perp ⋅kₓ  + \\epsilon_\\perp ⋅k_y  + \\epsilon_\\per\n",
       "                                                                              \n",
       "                                                                              \n",
       "                                                                              \n",
       "                                                                              \n",
       "                                                                              \n",
       "                                                                              \n",
       "                                                                              \n",
       "                                                                              \n",
       "                                                                              \n",
       "                                                                              \n",
       "                                                                              \n",
       "                                                                              \n",
       "                                                                              \n",
       "                                                                              \n",
       "                                                                              \n",
       "                                                                              \n",
       "                                                                              \n",
       "                                                                              \n",
       "                                                                              \n",
       "                                                                              \n",
       "                                                                              \n",
       "\n",
       "    4                      2    2                    2    2                   \n",
       "p⋅kₓ  + 2⋅\\epsilon_\\perp⋅kₓ ⋅k_y  + \\epsilon_\\perp⋅kₓ ⋅k_z  + \\epsilon_\\perp⋅k\n",
       "                                                                              \n",
       "                                                                              \n",
       "                                                                              \n",
       "                                                                              \n",
       "                                                                              \n",
       "                                                                              \n",
       "                                                                              \n",
       "                                                                              \n",
       "                                                                              \n",
       "                                                                              \n",
       "                                                                              \n",
       "                                                                              \n",
       "                                                                              \n",
       "                                                                              \n",
       "                                                                              \n",
       "                                                                              \n",
       "                                                                              \n",
       "                                                                              \n",
       "                                                                              \n",
       "                                                                              \n",
       "                                                                              \n",
       "\n",
       "  4                     2    2    ⎞\n",
       "_y  + \\epsilon_\\perp⋅k_y ⋅k_z  = 0⎟\n",
       "                                  ⎟\n",
       "                                  ⎟\n",
       "                                  ⎟\n",
       "                                  ⎟\n",
       "                                  ⎟\n",
       "                                  ⎟\n",
       "                                  ⎟\n",
       "                                  ⎟\n",
       "                                  ⎟\n",
       "                                  ⎟\n",
       "                                  ⎟\n",
       "                                  ⎟\n",
       "                                  ⎟\n",
       "                                  ⎟\n",
       "                                  ⎟\n",
       "                                  ⎟\n",
       "                                  ⎟\n",
       "                                  ⎟\n",
       "                                  ⎟\n",
       "                                  ⎟\n",
       "                                  ⎠"
      ]
     },
     "execution_count": 35,
     "metadata": {},
     "output_type": "execute_result"
    }
   ],
   "source": [
    "MaxwellMatrix, Eq(MaxwellMatrix.det().subs({c:1, w:1}), 0)"
   ]
  },
  {
   "cell_type": "code",
   "execution_count": 33,
   "metadata": {
    "collapsed": false
   },
   "outputs": [
    {
     "data": {
      "image/png": "[encoded data removed]",
      "text/latex": [
       "$$\\left [ \\frac{1}{2 \\omega^{2} \\left(\\epsilon_{\\parallel} \\omega^{2} + c^{2} k_{x}^{2} + c^{2} k_{y}^{2}\\right)} \\left(- c^{2} \\left(\\epsilon_{\\parallel} \\omega^{2} k_{x}^{2} + \\epsilon_{\\parallel} \\omega^{2} k_{y}^{2} + 2 \\epsilon_{\\parallel} \\omega^{2} k_{z}^{2} + c^{2} k_{x}^{4} + 2 c^{2} k_{x}^{2} k_{y}^{2} + c^{2} k_{x}^{2} k_{z}^{2} + c^{2} k_{y}^{4} + c^{2} k_{y}^{2} k_{z}^{2}\\right) + \\sqrt{c^{4} \\left(k_{x}^{2} + k_{y}^{2}\\right)^{2} \\left(\\epsilon_{\\parallel} \\omega^{2} + c^{2} k_{x}^{2} + c^{2} k_{y}^{2} + c^{2} k_{z}^{2}\\right)^{2}}\\right), \\quad - \\frac{1}{2 \\omega^{2} \\left(\\epsilon_{\\parallel} \\omega^{2} + c^{2} k_{x}^{2} + c^{2} k_{y}^{2}\\right)} \\left(c^{2} \\left(\\epsilon_{\\parallel} \\omega^{2} k_{x}^{2} + \\epsilon_{\\parallel} \\omega^{2} k_{y}^{2} + 2 \\epsilon_{\\parallel} \\omega^{2} k_{z}^{2} + c^{2} k_{x}^{4} + 2 c^{2} k_{x}^{2} k_{y}^{2} + c^{2} k_{x}^{2} k_{z}^{2} + c^{2} k_{y}^{4} + c^{2} k_{y}^{2} k_{z}^{2}\\right) + \\sqrt{c^{4} \\left(k_{x}^{2} + k_{y}^{2}\\right)^{2} \\left(\\epsilon_{\\parallel} \\omega^{2} + c^{2} k_{x}^{2} + c^{2} k_{y}^{2} + c^{2} k_{z}^{2}\\right)^{2}}\\right)\\right ]$$"
      ],
      "text/plain": [
       "⎡                                                                             \n",
       "⎢                                                                             \n",
       "⎢   2 ⎛                         2   2                            2    2       \n",
       "⎢- c ⋅⎝\\epsilon_\\parallel⋅\\omega ⋅kₓ  + \\epsilon_\\parallel⋅\\omega ⋅k_y  + 2⋅\\e\n",
       "⎢─────────────────────────────────────────────────────────────────────────────\n",
       "⎢                                                                             \n",
       "⎣                                                                             \n",
       "\n",
       "                                                                              \n",
       "                                                                              \n",
       "                       2    2    2   4      2   2    2    2   2    2    2    4\n",
       "psilon_\\parallel⋅\\omega ⋅k_z  + c ⋅kₓ  + 2⋅c ⋅kₓ ⋅k_y  + c ⋅kₓ ⋅k_z  + c ⋅k_y \n",
       "──────────────────────────────────────────────────────────────────────────────\n",
       "                              2 ⎛                         2    2   2    2    2\n",
       "                      2⋅\\omega ⋅⎝\\epsilon_\\parallel⋅\\omega  + c ⋅kₓ  + c ⋅k_y \n",
       "\n",
       "                       _______________________________________________________\n",
       "                      ╱                2                                      \n",
       "    2    2    2⎞     ╱   4 ⎛  2      2⎞  ⎛                         2    2   2 \n",
       " + c ⋅k_y ⋅k_z ⎠ + ╲╱   c ⋅⎝kₓ  + k_y ⎠ ⋅⎝\\epsilon_\\parallel⋅\\omega  + c ⋅kₓ  \n",
       "──────────────────────────────────────────────────────────────────────────────\n",
       "⎞                                                                             \n",
       "⎠                                                                             \n",
       "\n",
       "______________________   ⎛                                                    \n",
       "                    2    ⎜                                                    \n",
       "   2    2    2    2⎞     ⎜ 2 ⎛                         2   2                  \n",
       "+ c ⋅k_y  + c ⋅k_z ⎠    -⎝c ⋅⎝\\epsilon_\\parallel⋅\\omega ⋅kₓ  + \\epsilon_\\paral\n",
       "──────────────────────, ──────────────────────────────────────────────────────\n",
       "                                                                              \n",
       "                                                                              \n",
       "\n",
       "                                                                              \n",
       "                                                                              \n",
       "          2    2                              2    2    2   4      2   2    2 \n",
       "lel⋅\\omega ⋅k_y  + 2⋅\\epsilon_\\parallel⋅\\omega ⋅k_z  + c ⋅kₓ  + 2⋅c ⋅kₓ ⋅k_y  \n",
       "──────────────────────────────────────────────────────────────────────────────\n",
       "                                                      2 ⎛                     \n",
       "                                              2⋅\\omega ⋅⎝\\epsilon_\\parallel⋅\\o\n",
       "\n",
       "                                              ________________________________\n",
       "                                             ╱                2               \n",
       "   2   2    2    2    4    2    2    2⎞     ╱   4 ⎛  2      2⎞  ⎛             \n",
       "+ c ⋅kₓ ⋅k_z  + c ⋅k_y  + c ⋅k_y ⋅k_z ⎠ + ╲╱   c ⋅⎝kₓ  + k_y ⎠ ⋅⎝\\epsilon_\\par\n",
       "──────────────────────────────────────────────────────────────────────────────\n",
       "    2    2   2    2    2⎞                                                     \n",
       "mega  + c ⋅kₓ  + c ⋅k_y ⎠                                                     \n",
       "\n",
       "_____________________________________________⎞ ⎤\n",
       "                                           2 ⎟ ⎥\n",
       "            2    2   2    2    2    2    2⎞  ⎟ ⎥\n",
       "allel⋅\\omega  + c ⋅kₓ  + c ⋅k_y  + c ⋅k_z ⎠  ⎠ ⎥\n",
       "───────────────────────────────────────────────⎥\n",
       "                                               ⎥\n",
       "                                               ⎦"
      ]
     },
     "execution_count": 33,
     "metadata": {},
     "output_type": "execute_result"
    }
   ],
   "source": [
    "solve(Eq(MaxwellMatrix.det(), 0), Eps_per)"
   ]
  },
  {
   "cell_type": "code",
   "execution_count": 24,
   "metadata": {
    "collapsed": false
   },
   "outputs": [
    {
     "data": {
      "image/png": "[encoded data removed]",
      "text/latex": [
       "$$\\left [ - E_{x} \\epsilon_{\\perp} - \\frac{H_{y} c}{\\omega} k_{z} + \\frac{H_{z} c}{\\omega} k_{y} = 0, \\quad - E_{y} \\epsilon_{\\perp} + \\frac{H_{x} c}{\\omega} k_{z} - \\frac{H_{z} c}{\\omega} k_{x} = 0, \\quad - E_{z} \\epsilon_{\\parallel} - \\frac{H_{x} c}{\\omega} k_{y} + \\frac{H_{y} c}{\\omega} k_{x} = 0, \\quad - \\frac{E_{y} c}{\\omega} k_{z} + \\frac{E_{z} c}{\\omega} k_{y} - H_{x} = 0, \\quad \\frac{E_{x} c}{\\omega} k_{z} - \\frac{E_{z} c}{\\omega} k_{x} - H_{y} = 0, \\quad - \\frac{E_{x} c}{\\omega} k_{y} + \\frac{E_{y} c}{\\omega} k_{x} - H_{z} = 0\\right ]$$"
      ],
      "text/plain": [
       "⎡                     H_y⋅c⋅k_z   H_z⋅c⋅k_y                            Hₓ⋅c⋅k_\n",
       "⎢-Eₓ⋅\\epsilon_\\perp - ───────── + ───────── = 0, -E_y⋅\\epsilon_\\perp + ───────\n",
       "⎣                       \\omega      \\omega                              \\omega\n",
       "\n",
       "z   H_z⋅c⋅kₓ                                Hₓ⋅c⋅k_y   H_y⋅c⋅kₓ        E_y⋅c⋅k\n",
       "─ - ──────── = 0, -E_z⋅\\epsilon_\\parallel - ──────── + ──────── = 0, - ───────\n",
       "     \\omega                                  \\omega     \\omega           \\omeg\n",
       "\n",
       "_z   E_z⋅c⋅k_y           Eₓ⋅c⋅k_z   E_z⋅c⋅kₓ              Eₓ⋅c⋅k_y   E_y⋅c⋅kₓ \n",
       "── + ───────── - Hₓ = 0, ──────── - ──────── - H_y = 0, - ──────── + ──────── \n",
       "a      \\omega             \\omega     \\omega                \\omega     \\omega  \n",
       "\n",
       "         ⎤\n",
       "- H_z = 0⎥\n",
       "         ⎦"
      ]
     },
     "execution_count": 24,
     "metadata": {},
     "output_type": "execute_result"
    }
   ],
   "source": [
    "FieldVars = Matrix([\n",
    "        Ex,\n",
    "        Ey,\n",
    "        Ez,\n",
    "        Hx,\n",
    "        Hy,\n",
    "        Hz\n",
    "    ])\n",
    "equations = [Eq(exp,0) for exp in MaxwellMatrix.dot(FieldVars)]\n",
    "equations"
   ]
  },
  {
   "cell_type": "code",
   "execution_count": 27,
   "metadata": {
    "collapsed": false
   },
   "outputs": [
    {
     "data": {
      "image/png": "[encoded data removed]",
      "text/latex": [
       "$$\\left \\{ E_{y} : \\frac{E_{x}}{c^{2} k_{x} k_{y} \\left(\\epsilon_{\\parallel} - \\epsilon_{\\perp}\\right)} \\left(\\epsilon_{\\parallel} c^{2} k_{y}^{2} + \\epsilon_{\\parallel} c^{2} k_{z}^{2} + \\epsilon_{\\perp} \\left(\\epsilon_{\\parallel} \\omega^{2} + c^{2} k_{x}^{2}\\right)\\right), \\quad E_{z} : - \\frac{E_{x} \\epsilon_{\\perp}}{c^{2} k_{x} k_{z} \\left(\\epsilon_{\\parallel} - \\epsilon_{\\perp}\\right)} \\left(\\epsilon_{\\perp} \\omega^{2} + c^{2} k_{x}^{2} + c^{2} k_{y}^{2} + c^{2} k_{z}^{2}\\right), \\quad H_{x} : \\frac{E_{x}}{\\omega c^{3} k_{x} k_{y} k_{z} \\left(\\epsilon_{\\parallel} - \\epsilon_{\\perp}\\right)} \\left(\\epsilon_{\\parallel} c^{2} k_{z}^{2} \\left(\\epsilon_{\\perp} \\omega^{2} + c^{2} k_{x}^{2}\\right) + \\epsilon_{\\perp} c^{2} k_{y}^{2} \\left(\\epsilon_{\\parallel} \\omega^{2} + c^{2} k_{x}^{2}\\right) + \\epsilon_{\\perp} \\left(\\epsilon_{\\parallel} \\epsilon_{\\perp} \\omega^{4} + \\epsilon_{\\parallel} \\omega^{2} c^{2} k_{x}^{2} + \\epsilon_{\\perp} \\omega^{2} c^{2} k_{x}^{2} + c^{4} k_{x}^{4}\\right)\\right), \\quad H_{y} : \\frac{E_{x}}{\\omega c k_{z} \\left(\\epsilon_{\\parallel} - \\epsilon_{\\perp}\\right)} \\left(\\epsilon_{\\parallel} c^{2} k_{z}^{2} + \\epsilon_{\\perp} c^{2} k_{y}^{2} + \\epsilon_{\\perp} \\left(\\epsilon_{\\perp} \\omega^{2} + c^{2} k_{x}^{2}\\right)\\right), \\quad H_{z} : \\frac{E_{x}}{\\omega c k_{y} \\left(\\epsilon_{\\parallel} - \\epsilon_{\\perp}\\right)} \\left(\\epsilon_{\\parallel} c^{2} k_{z}^{2} + \\epsilon_{\\perp} c^{2} k_{y}^{2} + \\epsilon_{\\perp} \\left(\\epsilon_{\\parallel} \\omega^{2} + c^{2} k_{x}^{2}\\right)\\right)\\right \\}$$"
      ],
      "text/plain": [
       "⎧        ⎛                    2    2                       2    2             \n",
       "⎪     Eₓ⋅⎝\\epsilon_\\parallel⋅c ⋅k_y  + \\epsilon_\\parallel⋅c ⋅k_z  + \\epsilon_\\\n",
       "⎨E_y: ────────────────────────────────────────────────────────────────────────\n",
       "⎪                                        2                                    \n",
       "⎩                                       c ⋅kₓ⋅k_y⋅(\\epsilon_\\parallel - \\epsil\n",
       "\n",
       "     ⎛                         2    2   2⎞⎞                          ⎛        \n",
       "perp⋅⎝\\epsilon_\\parallel⋅\\omega  + c ⋅kₓ ⎠⎠       -Eₓ⋅\\epsilon_\\perp⋅⎝\\epsilon\n",
       "───────────────────────────────────────────, E_z: ────────────────────────────\n",
       "                                                                2             \n",
       "on_\\perp)                                                      c ⋅kₓ⋅k_z⋅(\\eps\n",
       "\n",
       "             2    2   2    2    2    2    2⎞          ⎛                    2  \n",
       "_\\perp⋅\\omega  + c ⋅kₓ  + c ⋅k_y  + c ⋅k_z ⎠       Eₓ⋅⎝\\epsilon_\\parallel⋅c ⋅k\n",
       "─────────────────────────────────────────────, Hₓ: ───────────────────────────\n",
       "                                                                              \n",
       "ilon_\\parallel - \\epsilon_\\perp)                                              \n",
       "\n",
       "  2 ⎛                     2    2   2⎞                   2    2 ⎛              \n",
       "_z ⋅⎝\\epsilon_\\perp⋅\\omega  + c ⋅kₓ ⎠ + \\epsilon_\\perp⋅c ⋅k_y ⋅⎝\\epsilon_\\para\n",
       "──────────────────────────────────────────────────────────────────────────────\n",
       "                                                                              \n",
       "                                                                             \\\n",
       "\n",
       "           2    2   2⎞                  ⎛                                     \n",
       "llel⋅\\omega  + c ⋅kₓ ⎠ + \\epsilon_\\perp⋅⎝\\epsilon_\\parallel⋅\\epsilon_\\perp⋅\\om\n",
       "──────────────────────────────────────────────────────────────────────────────\n",
       "       3                                                                      \n",
       "omega⋅c ⋅kₓ⋅k_y⋅k_z⋅(\\epsilon_\\parallel - \\epsilon_\\perp)                     \n",
       "\n",
       "   4                            2  2   2                        2  2   2    4 \n",
       "ega  + \\epsilon_\\parallel⋅\\omega ⋅c ⋅kₓ  + \\epsilon_\\perp⋅\\omega ⋅c ⋅kₓ  + c ⋅\n",
       "──────────────────────────────────────────────────────────────────────────────\n",
       "                                                                              \n",
       "                                                                              \n",
       "\n",
       "  4⎞⎞          ⎛                    2    2                   2    2           \n",
       "kₓ ⎠⎠       Eₓ⋅⎝\\epsilon_\\parallel⋅c ⋅k_z  + \\epsilon_\\perp⋅c ⋅k_y  + \\epsilon\n",
       "─────, H_y: ──────────────────────────────────────────────────────────────────\n",
       "                                         \\omega⋅c⋅k_z⋅(\\epsilon_\\parallel - \\e\n",
       "                                                                              \n",
       "\n",
       "       ⎛                     2    2   2⎞⎞          ⎛                    2    2\n",
       "_\\perp⋅⎝\\epsilon_\\perp⋅\\omega  + c ⋅kₓ ⎠⎠       Eₓ⋅⎝\\epsilon_\\parallel⋅c ⋅k_z \n",
       "─────────────────────────────────────────, H_z: ──────────────────────────────\n",
       "psilon_\\perp)                                                                 \n",
       "                                                                              \n",
       "\n",
       "                   2    2                  ⎛                         2    2   \n",
       " + \\epsilon_\\perp⋅c ⋅k_y  + \\epsilon_\\perp⋅⎝\\epsilon_\\parallel⋅\\omega  + c ⋅kₓ\n",
       "──────────────────────────────────────────────────────────────────────────────\n",
       " \\omega⋅c⋅k_y⋅(\\epsilon_\\parallel - \\epsilon_\\perp)                           \n",
       "                                                                              \n",
       "\n",
       "2⎞⎞⎫\n",
       " ⎠⎠⎪\n",
       "───⎬\n",
       "   ⎪\n",
       "   ⎭"
      ]
     },
     "execution_count": 27,
     "metadata": {},
     "output_type": "execute_result"
    }
   ],
   "source": [
    "simplify(solve([equations[0],equations[1],equations[2], equations[5], equations[4]], [Ey, Ez, Hx, Hy, Hz]))"
   ]
  },
  {
   "cell_type": "code",
   "execution_count": 32,
   "metadata": {
    "collapsed": false
   },
   "outputs": [
    {
     "data": {
      "image/png": "[encoded data removed]",
      "text/latex": [
       "$$\\left \\{ E_{x} : \\frac{E_{y}}{c^{2} k_{x} k_{y} \\left(\\epsilon_{\\parallel} - \\epsilon_{\\perp}\\right)} \\left(\\epsilon_{\\parallel} c^{2} k_{x}^{2} + \\epsilon_{\\parallel} c^{2} k_{z}^{2} + \\epsilon_{\\perp} \\left(\\epsilon_{\\parallel} \\omega^{2} + c^{2} k_{y}^{2}\\right)\\right), \\quad E_{z} : - \\frac{E_{y} \\epsilon_{\\perp}}{c^{2} k_{y} k_{z} \\left(\\epsilon_{\\parallel} - \\epsilon_{\\perp}\\right)} \\left(\\epsilon_{\\perp} \\omega^{2} + c^{2} k_{x}^{2} + c^{2} k_{y}^{2} + c^{2} k_{z}^{2}\\right), \\quad H_{x} : - \\frac{E_{y}}{\\omega c k_{z} \\left(\\epsilon_{\\parallel} - \\epsilon_{\\perp}\\right)} \\left(\\epsilon_{\\parallel} c^{2} k_{z}^{2} + \\epsilon_{\\perp} c^{2} k_{x}^{2} + \\epsilon_{\\perp} \\left(\\epsilon_{\\perp} \\omega^{2} + c^{2} k_{y}^{2}\\right)\\right), \\quad H_{y} : - \\frac{E_{y}}{\\omega c^{3} k_{x} k_{y} k_{z} \\left(\\epsilon_{\\parallel} - \\epsilon_{\\perp}\\right)} \\left(\\epsilon_{\\parallel} c^{2} k_{z}^{2} \\left(\\epsilon_{\\perp} \\omega^{2} + c^{2} k_{y}^{2}\\right) + \\epsilon_{\\perp} c^{2} k_{x}^{2} \\left(\\epsilon_{\\parallel} \\omega^{2} + c^{2} k_{y}^{2}\\right) + \\epsilon_{\\perp} \\left(\\epsilon_{\\parallel} \\epsilon_{\\perp} \\omega^{4} + \\epsilon_{\\parallel} \\omega^{2} c^{2} k_{y}^{2} + \\epsilon_{\\perp} \\omega^{2} c^{2} k_{y}^{2} + c^{4} k_{y}^{4}\\right)\\right), \\quad H_{z} : - \\frac{E_{y}}{\\omega c k_{x} \\left(\\epsilon_{\\parallel} - \\epsilon_{\\perp}\\right)} \\left(\\epsilon_{\\parallel} c^{2} k_{z}^{2} + \\epsilon_{\\perp} c^{2} k_{x}^{2} + \\epsilon_{\\perp} \\left(\\epsilon_{\\parallel} \\omega^{2} + c^{2} k_{y}^{2}\\right)\\right)\\right \\}$$"
      ],
      "text/plain": [
       "⎧        ⎛                    2   2                       2    2              \n",
       "⎪    E_y⋅⎝\\epsilon_\\parallel⋅c ⋅kₓ  + \\epsilon_\\parallel⋅c ⋅k_z  + \\epsilon_\\p\n",
       "⎨Eₓ: ─────────────────────────────────────────────────────────────────────────\n",
       "⎪                                       2                                     \n",
       "⎩                                      c ⋅kₓ⋅k_y⋅(\\epsilon_\\parallel - \\epsilo\n",
       "\n",
       "    ⎛                         2    2    2⎞⎞                           ⎛       \n",
       "erp⋅⎝\\epsilon_\\parallel⋅\\omega  + c ⋅k_y ⎠⎠       -E_y⋅\\epsilon_\\perp⋅⎝\\epsilo\n",
       "───────────────────────────────────────────, E_z: ────────────────────────────\n",
       "                                                                2             \n",
       "n_\\perp)                                                       c ⋅k_y⋅k_z⋅(\\ep\n",
       "\n",
       "              2    2   2    2    2    2    2⎞            ⎛                    \n",
       "n_\\perp⋅\\omega  + c ⋅kₓ  + c ⋅k_y  + c ⋅k_z ⎠       -E_y⋅⎝\\epsilon_\\parallel⋅c\n",
       "──────────────────────────────────────────────, Hₓ: ──────────────────────────\n",
       "                                                                              \n",
       "silon_\\parallel - \\epsilon_\\perp)                                             \n",
       "\n",
       "2    2                   2   2                  ⎛                     2    2  \n",
       " ⋅k_z  + \\epsilon_\\perp⋅c ⋅kₓ  + \\epsilon_\\perp⋅⎝\\epsilon_\\perp⋅\\omega  + c ⋅k\n",
       "──────────────────────────────────────────────────────────────────────────────\n",
       "    \\omega⋅c⋅k_z⋅(\\epsilon_\\parallel - \\epsilon_\\perp)                        \n",
       "                                                                              \n",
       "\n",
       "  2⎞⎞             ⎛                    2    2 ⎛                     2    2    \n",
       "_y ⎠⎠        -E_y⋅⎝\\epsilon_\\parallel⋅c ⋅k_z ⋅⎝\\epsilon_\\perp⋅\\omega  + c ⋅k_y\n",
       "──────, H_y: ─────────────────────────────────────────────────────────────────\n",
       "                                                                              \n",
       "                                                                              \n",
       "\n",
       "2⎞                   2   2 ⎛                         2    2    2⎞             \n",
       " ⎠ + \\epsilon_\\perp⋅c ⋅kₓ ⋅⎝\\epsilon_\\parallel⋅\\omega  + c ⋅k_y ⎠ + \\epsilon_\\\n",
       "──────────────────────────────────────────────────────────────────────────────\n",
       "                                                   3                          \n",
       "                                           \\omega⋅c ⋅kₓ⋅k_y⋅k_z⋅(\\epsilon_\\par\n",
       "\n",
       "     ⎛                                        4                            2  \n",
       "perp⋅⎝\\epsilon_\\parallel⋅\\epsilon_\\perp⋅\\omega  + \\epsilon_\\parallel⋅\\omega ⋅c\n",
       "──────────────────────────────────────────────────────────────────────────────\n",
       "                                                                              \n",
       "allel - \\epsilon_\\perp)                                                       \n",
       "\n",
       "2    2                        2  2    2    4    4⎞⎞             ⎛             \n",
       " ⋅k_y  + \\epsilon_\\perp⋅\\omega ⋅c ⋅k_y  + c ⋅k_y ⎠⎠        -E_y⋅⎝\\epsilon_\\par\n",
       "────────────────────────────────────────────────────, H_z: ───────────────────\n",
       "                                                                              \n",
       "                                                                              \n",
       "\n",
       "       2    2                   2   2                  ⎛                      \n",
       "allel⋅c ⋅k_z  + \\epsilon_\\perp⋅c ⋅kₓ  + \\epsilon_\\perp⋅⎝\\epsilon_\\parallel⋅\\om\n",
       "──────────────────────────────────────────────────────────────────────────────\n",
       "             \\omega⋅c⋅kₓ⋅(\\epsilon_\\parallel - \\epsilon_\\perp)                \n",
       "                                                                              \n",
       "\n",
       "   2    2    2⎞⎞ ⎫\n",
       "ega  + c ⋅k_y ⎠⎠ ⎪\n",
       "─────────────────⎬\n",
       "                 ⎪\n",
       "                 ⎭"
      ]
     },
     "execution_count": 32,
     "metadata": {},
     "output_type": "execute_result"
    }
   ],
   "source": [
    "simplify(solve([equations[0],equations[1],equations[2], equations[3], equations[5]], [Ex, Ez, Hx, Hy, Hz]))"
   ]
  },
  {
   "cell_type": "code",
   "execution_count": null,
   "metadata": {
    "collapsed": true
   },
   "outputs": [],
   "source": []
  }
 ],
 "metadata": {
  "kernelspec": {
   "display_name": "Python 3",
   "language": "python",
   "name": "python3"
  },
  "language_info": {
   "codemirror_mode": {
    "name": "ipython",
    "version": 3
   },
   "file_extension": ".py",
   "mimetype": "text/x-python",
   "name": "python",
   "nbconvert_exporter": "python",
   "pygments_lexer": "ipython3",
   "version": "3.4.3"
  }
 },
 "nbformat": 4,
 "nbformat_minor": 0
}
