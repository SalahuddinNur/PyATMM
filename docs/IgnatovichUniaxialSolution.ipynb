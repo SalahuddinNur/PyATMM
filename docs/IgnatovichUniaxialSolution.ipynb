{
 "cells": [
  {
   "cell_type": "code",
   "execution_count": 4,
   "metadata": {
    "collapsed": true
   },
   "outputs": [],
   "source": [
    "from sympy import *\n",
    "from sympy.physics.quantum import TensorProduct\n",
    "import numpy as np\n",
    "init_printing()"
   ]
  },
  {
   "cell_type": "markdown",
   "metadata": {},
   "source": [
    "Defines\n",
    "---"
   ]
  },
  {
   "cell_type": "code",
   "execution_count": 18,
   "metadata": {
    "collapsed": false
   },
   "outputs": [],
   "source": [
    "w, c = symbols('\\omega, c')\n",
    "ax, ay, az = symbols('a_x, a_y, a_z')\n",
    "opticAxis = Matrix([\n",
    "        ax, ay, az\n",
    "    ])\n",
    "eps_per, eps_par = symbols('\\epsilon_\\parallel, \\epsilon_\\perp')\n",
    "eps_iso = eps_per\n",
    "eps_ani = eps_par - eps_per\n",
    "\n",
    "Eps = eye(3)*eps_iso + TensorProduct(opticAxis, opticAxis.T)*eps_ani"
   ]
  },
  {
   "cell_type": "code",
   "execution_count": 9,
   "metadata": {
    "collapsed": false
   },
   "outputs": [
    {
     "data": {
      "image/png": "[encoded data removed]",
      "text/latex": [
       "$$\\left[\\begin{matrix}\\epsilon_{\\parallel} & 0 & 0\\\\0 & \\epsilon_{\\parallel} & 0\\\\0 & 0 & \\epsilon_{\\perp}\\end{matrix}\\right]$$"
      ],
      "text/plain": [
       "⎡\\epsilon_\\parallel          0                 0       ⎤\n",
       "⎢                                                      ⎥\n",
       "⎢        0           \\epsilon_\\parallel        0       ⎥\n",
       "⎢                                                      ⎥\n",
       "⎣        0                   0           \\epsilon_\\perp⎦"
      ]
     },
     "execution_count": 9,
     "metadata": {},
     "output_type": "execute_result"
    }
   ],
   "source": [
    "Eps.subs({ax:0, ay:0, az:1})"
   ]
  },
  {
   "cell_type": "code",
   "execution_count": 16,
   "metadata": {
    "collapsed": true
   },
   "outputs": [],
   "source": [
    "kx, ky, kz = symbols('k_x, k_y, k_z')\n",
    "k = Matrix([\n",
    "        kx,\n",
    "        ky,\n",
    "        kz\n",
    "    ])\n",
    "kap = k/sqrt(k.dot(k))"
   ]
  },
  {
   "cell_type": "markdown",
   "metadata": {},
   "source": [
    "Polarization Basis\n",
    "---"
   ]
  },
  {
   "cell_type": "code",
   "execution_count": 21,
   "metadata": {
    "collapsed": false
   },
   "outputs": [],
   "source": [
    "nu = eps_ani/eps_iso\n",
    "eps1 = eps_iso\n",
    "eps2 = eps_iso*(1 + nu)/(1 + (nu*kap.dot(opticAxis)**2))\n",
    "\n",
    "e1 = opticAxis.cross(kap)\n",
    "e2 = opticAxis - (eps2/eps1)*kap.dot(opticAxis)*kap"
   ]
  },
  {
   "cell_type": "code",
   "execution_count": 22,
   "metadata": {
    "collapsed": false
   },
   "outputs": [
    {
     "data": {
      "image/png": "[encoded data removed]",
      "text/latex": [
       "$$\\left ( \\left[\\begin{matrix}\\frac{a_{y} k_{z}}{\\sqrt{k_{x}^{2} + k_{y}^{2} + k_{z}^{2}}} - \\frac{a_{z} k_{y}}{\\sqrt{k_{x}^{2} + k_{y}^{2} + k_{z}^{2}}}\\\\- \\frac{a_{x} k_{z}}{\\sqrt{k_{x}^{2} + k_{y}^{2} + k_{z}^{2}}} + \\frac{a_{z} k_{x}}{\\sqrt{k_{x}^{2} + k_{y}^{2} + k_{z}^{2}}}\\\\\\frac{a_{x} k_{y}}{\\sqrt{k_{x}^{2} + k_{y}^{2} + k_{z}^{2}}} - \\frac{a_{y} k_{x}}{\\sqrt{k_{x}^{2} + k_{y}^{2} + k_{z}^{2}}}\\end{matrix}\\right], \\quad \\frac{\\sqrt{\\epsilon_{\\parallel}} \\omega}{c}\\right )$$"
      ],
      "text/plain": [
       "⎛                                                       ____________________  \n",
       "⎜⎡        a_y⋅k_z                  a_z⋅k_y         ⎤  ╲╱ \\epsilon_\\parallel ⋅\\\n",
       "⎜⎢ ────────────────────── - ────────────────────── ⎥, ────────────────────────\n",
       "⎜⎢    ___________________      ___________________ ⎥                c         \n",
       "⎜⎢   ╱   2      2      2      ╱   2      2      2  ⎥                          \n",
       "⎜⎢ ╲╱  kₓ  + k_y  + k_z     ╲╱  kₓ  + k_y  + k_z   ⎥                          \n",
       "⎜⎢                                                 ⎥                          \n",
       "⎜⎢          aₓ⋅k_z                   a_z⋅kₓ        ⎥                          \n",
       "⎜⎢- ────────────────────── + ──────────────────────⎥                          \n",
       "⎜⎢     ___________________      ___________________⎥                          \n",
       "⎜⎢    ╱   2      2      2      ╱   2      2      2 ⎥                          \n",
       "⎜⎢  ╲╱  kₓ  + k_y  + k_z     ╲╱  kₓ  + k_y  + k_z  ⎥                          \n",
       "⎜⎢                                                 ⎥                          \n",
       "⎜⎢         aₓ⋅k_y                   a_y⋅kₓ         ⎥                          \n",
       "⎜⎢ ────────────────────── - ────────────────────── ⎥                          \n",
       "⎜⎢    ___________________      ___________________ ⎥                          \n",
       "⎜⎢   ╱   2      2      2      ╱   2      2      2  ⎥                          \n",
       "⎝⎣ ╲╱  kₓ  + k_y  + k_z     ╲╱  kₓ  + k_y  + k_z   ⎦                          \n",
       "\n",
       "     ⎞\n",
       "omega⎟\n",
       "─────⎟\n",
       "     ⎟\n",
       "     ⎟\n",
       "     ⎟\n",
       "     ⎟\n",
       "     ⎟\n",
       "     ⎟\n",
       "     ⎟\n",
       "     ⎟\n",
       "     ⎟\n",
       "     ⎟\n",
       "     ⎟\n",
       "     ⎟\n",
       "     ⎟\n",
       "     ⎟\n",
       "     ⎠"
      ]
     },
     "execution_count": 22,
     "metadata": {},
     "output_type": "execute_result"
    }
   ],
   "source": [
    "pol1 = opticAxis.cross(kap)\n",
    "k1 = (w/c)*sqrt(eps1)\n",
    "pol1, k1"
   ]
  },
  {
   "cell_type": "code",
   "execution_count": 24,
   "metadata": {
    "collapsed": false
   },
   "outputs": [
    {
     "data": {
      "image/png": "[encoded data removed]",
      "text/latex": [
       "$$\\left ( \\left[\\begin{matrix}a_{x} - \\frac{k_{x} \\left(1 + \\frac{1}{\\epsilon_{\\parallel}} \\left(- \\epsilon_{\\parallel} + \\epsilon_{\\perp}\\right)\\right) \\left(\\frac{a_{x} k_{x}}{\\sqrt{k_{x}^{2} + k_{y}^{2} + k_{z}^{2}}} + \\frac{a_{y} k_{y}}{\\sqrt{k_{x}^{2} + k_{y}^{2} + k_{z}^{2}}} + \\frac{a_{z} k_{z}}{\\sqrt{k_{x}^{2} + k_{y}^{2} + k_{z}^{2}}}\\right)}{\\left(1 + \\frac{1}{\\epsilon_{\\parallel}} \\left(- \\epsilon_{\\parallel} + \\epsilon_{\\perp}\\right) \\left(\\frac{a_{x} k_{x}}{\\sqrt{k_{x}^{2} + k_{y}^{2} + k_{z}^{2}}} + \\frac{a_{y} k_{y}}{\\sqrt{k_{x}^{2} + k_{y}^{2} + k_{z}^{2}}} + \\frac{a_{z} k_{z}}{\\sqrt{k_{x}^{2} + k_{y}^{2} + k_{z}^{2}}}\\right)^{2}\\right) \\sqrt{k_{x}^{2} + k_{y}^{2} + k_{z}^{2}}}\\\\a_{y} - \\frac{k_{y} \\left(1 + \\frac{1}{\\epsilon_{\\parallel}} \\left(- \\epsilon_{\\parallel} + \\epsilon_{\\perp}\\right)\\right) \\left(\\frac{a_{x} k_{x}}{\\sqrt{k_{x}^{2} + k_{y}^{2} + k_{z}^{2}}} + \\frac{a_{y} k_{y}}{\\sqrt{k_{x}^{2} + k_{y}^{2} + k_{z}^{2}}} + \\frac{a_{z} k_{z}}{\\sqrt{k_{x}^{2} + k_{y}^{2} + k_{z}^{2}}}\\right)}{\\left(1 + \\frac{1}{\\epsilon_{\\parallel}} \\left(- \\epsilon_{\\parallel} + \\epsilon_{\\perp}\\right) \\left(\\frac{a_{x} k_{x}}{\\sqrt{k_{x}^{2} + k_{y}^{2} + k_{z}^{2}}} + \\frac{a_{y} k_{y}}{\\sqrt{k_{x}^{2} + k_{y}^{2} + k_{z}^{2}}} + \\frac{a_{z} k_{z}}{\\sqrt{k_{x}^{2} + k_{y}^{2} + k_{z}^{2}}}\\right)^{2}\\right) \\sqrt{k_{x}^{2} + k_{y}^{2} + k_{z}^{2}}}\\\\a_{z} - \\frac{k_{z} \\left(1 + \\frac{1}{\\epsilon_{\\parallel}} \\left(- \\epsilon_{\\parallel} + \\epsilon_{\\perp}\\right)\\right) \\left(\\frac{a_{x} k_{x}}{\\sqrt{k_{x}^{2} + k_{y}^{2} + k_{z}^{2}}} + \\frac{a_{y} k_{y}}{\\sqrt{k_{x}^{2} + k_{y}^{2} + k_{z}^{2}}} + \\frac{a_{z} k_{z}}{\\sqrt{k_{x}^{2} + k_{y}^{2} + k_{z}^{2}}}\\right)}{\\left(1 + \\frac{1}{\\epsilon_{\\parallel}} \\left(- \\epsilon_{\\parallel} + \\epsilon_{\\perp}\\right) \\left(\\frac{a_{x} k_{x}}{\\sqrt{k_{x}^{2} + k_{y}^{2} + k_{z}^{2}}} + \\frac{a_{y} k_{y}}{\\sqrt{k_{x}^{2} + k_{y}^{2} + k_{z}^{2}}} + \\frac{a_{z} k_{z}}{\\sqrt{k_{x}^{2} + k_{y}^{2} + k_{z}^{2}}}\\right)^{2}\\right) \\sqrt{k_{x}^{2} + k_{y}^{2} + k_{z}^{2}}}\\end{matrix}\\right], \\quad \\frac{\\omega}{c} \\sqrt{\\frac{\\epsilon_{\\parallel} \\left(1 + \\frac{1}{\\epsilon_{\\parallel}} \\left(- \\epsilon_{\\parallel} + \\epsilon_{\\perp}\\right)\\right)}{1 + \\frac{1}{\\epsilon_{\\parallel}} \\left(- \\epsilon_{\\parallel} + \\epsilon_{\\perp}\\right) \\left(\\frac{a_{x} k_{x}}{\\sqrt{k_{x}^{2} + k_{y}^{2} + k_{z}^{2}}} + \\frac{a_{y} k_{y}}{\\sqrt{k_{x}^{2} + k_{y}^{2} + k_{z}^{2}}} + \\frac{a_{z} k_{z}}{\\sqrt{k_{x}^{2} + k_{y}^{2} + k_{z}^{2}}}\\right)^{2}}}\\right )$$"
      ],
      "text/plain": [
       "⎛                                                                             \n",
       "⎜                                                                             \n",
       "⎜                                                                             \n",
       "⎜                                                                             \n",
       "⎜                                                                             \n",
       "⎜                                                                             \n",
       "⎜                                                                             \n",
       "⎜                                                                             \n",
       "⎜⎡                    ⎛    -\\epsilon_\\parallel + \\epsilon_\\perp⎞ ⎛        aₓ⋅k\n",
       "⎜⎢                 kₓ⋅⎜1 + ────────────────────────────────────⎟⋅⎜────────────\n",
       "⎜⎢                    ⎝             \\epsilon_\\parallel         ⎠ ⎜   _________\n",
       "⎜⎢                                                               ⎜  ╱   2     \n",
       "⎜⎢                                                               ⎝╲╱  kₓ  + k_\n",
       "⎜⎢aₓ - ───────────────────────────────────────────────────────────────────────\n",
       "⎜⎢     ⎛                                                                      \n",
       "⎜⎢     ⎜                                           ⎛        aₓ⋅kₓ             \n",
       "⎜⎢     ⎜    (-\\epsilon_\\parallel + \\epsilon_\\perp)⋅⎜────────────────────── + ─\n",
       "⎜⎢     ⎜                                           ⎜   ___________________    \n",
       "⎜⎢     ⎜                                           ⎜  ╱   2      2      2     \n",
       "⎜⎢     ⎜                                           ⎝╲╱  kₓ  + k_y  + k_z     ╲\n",
       "⎜⎢     ⎜1 + ──────────────────────────────────────────────────────────────────\n",
       "⎜⎢     ⎝                                                    \\epsilon_\\parallel\n",
       "⎜⎢                                                                            \n",
       "⎜⎢                     ⎛    -\\epsilon_\\parallel + \\epsilon_\\perp⎞ ⎛        aₓ⋅\n",
       "⎜⎢                 k_y⋅⎜1 + ────────────────────────────────────⎟⋅⎜───────────\n",
       "⎜⎢                     ⎝             \\epsilon_\\parallel         ⎠ ⎜   ________\n",
       "⎜⎢                                                                ⎜  ╱   2    \n",
       "⎜⎢                                                                ⎝╲╱  kₓ  + k\n",
       "⎜⎢a_y - ──────────────────────────────────────────────────────────────────────\n",
       "⎜⎢      ⎛                                                                     \n",
       "⎜⎢      ⎜                                           ⎛        aₓ⋅kₓ            \n",
       "⎜⎢      ⎜    (-\\epsilon_\\parallel + \\epsilon_\\perp)⋅⎜────────────────────── + \n",
       "⎜⎢      ⎜                                           ⎜   ___________________   \n",
       "⎜⎢      ⎜                                           ⎜  ╱   2      2      2    \n",
       "⎜⎢      ⎜                                           ⎝╲╱  kₓ  + k_y  + k_z     \n",
       "⎜⎢      ⎜1 + ─────────────────────────────────────────────────────────────────\n",
       "⎜⎢      ⎝                                                    \\epsilon_\\paralle\n",
       "⎜⎢                                                                            \n",
       "⎜⎢                     ⎛    -\\epsilon_\\parallel + \\epsilon_\\perp⎞ ⎛        aₓ⋅\n",
       "⎜⎢                 k_z⋅⎜1 + ────────────────────────────────────⎟⋅⎜───────────\n",
       "⎜⎢                     ⎝             \\epsilon_\\parallel         ⎠ ⎜   ________\n",
       "⎜⎢                                                                ⎜  ╱   2    \n",
       "⎜⎢                                                                ⎝╲╱  kₓ  + k\n",
       "⎜⎢a_z - ──────────────────────────────────────────────────────────────────────\n",
       "⎜⎢      ⎛                                                                     \n",
       "⎜⎢      ⎜                                           ⎛        aₓ⋅kₓ            \n",
       "⎜⎢      ⎜    (-\\epsilon_\\parallel + \\epsilon_\\perp)⋅⎜────────────────────── + \n",
       "⎜⎢      ⎜                                           ⎜   ___________________   \n",
       "⎜⎢      ⎜                                           ⎜  ╱   2      2      2    \n",
       "⎜⎢      ⎜                                           ⎝╲╱  kₓ  + k_y  + k_z     \n",
       "⎜⎢      ⎜1 + ─────────────────────────────────────────────────────────────────\n",
       "⎝⎣      ⎝                                                    \\epsilon_\\paralle\n",
       "\n",
       "                                                                              \n",
       "                                                                              \n",
       "                                                                              \n",
       "                                                                              \n",
       "                                                                            \\o\n",
       "                                                                              \n",
       "                                                                              \n",
       "                                                                              \n",
       "ₓ                   a_y⋅k_y                  a_z⋅k_z        ⎞            ⎤    \n",
       "────────── + ────────────────────── + ──────────────────────⎟            ⎥    \n",
       "__________      ___________________      ___________________⎟            ⎥    \n",
       " 2      2      ╱   2      2      2      ╱   2      2      2 ⎟            ⎥    \n",
       "y  + k_z     ╲╱  kₓ  + k_y  + k_z     ╲╱  kₓ  + k_y  + k_z  ⎠            ⎥    \n",
       "──────────────────────────────────────────────────────────────────────── ⎥, ──\n",
       "                                               2⎞                        ⎥    \n",
       "      a_y⋅k_y                  a_z⋅k_z        ⎞ ⎟                        ⎥    \n",
       "───────────────────── + ──────────────────────⎟ ⎟                        ⎥    \n",
       "  ___________________      ___________________⎟ ⎟                        ⎥    \n",
       " ╱   2      2      2      ╱   2      2      2 ⎟ ⎟    ___________________ ⎥    \n",
       "╱  kₓ  + k_y  + k_z     ╲╱  kₓ  + k_y  + k_z  ⎠ ⎟   ╱   2      2      2  ⎥    \n",
       "────────────────────────────────────────────────⎟⋅╲╱  kₓ  + k_y  + k_z   ⎥    \n",
       "                                                ⎠                        ⎥    \n",
       "                                                                         ⎥    \n",
       "kₓ                   a_y⋅k_y                  a_z⋅k_z        ⎞           ⎥    \n",
       "─────────── + ────────────────────── + ──────────────────────⎟           ⎥    \n",
       "___________      ___________________      ___________________⎟           ⎥    \n",
       "  2      2      ╱   2      2      2      ╱   2      2      2 ⎟           ⎥    \n",
       "_y  + k_z     ╲╱  kₓ  + k_y  + k_z     ╲╱  kₓ  + k_y  + k_z  ⎠           ⎥    \n",
       "─────────────────────────────────────────────────────────────────────────⎥    \n",
       "                                                2⎞                       ⎥    \n",
       "       a_y⋅k_y                  a_z⋅k_z        ⎞ ⎟                       ⎥    \n",
       "────────────────────── + ──────────────────────⎟ ⎟                       ⎥    \n",
       "   ___________________      ___________________⎟ ⎟                       ⎥    \n",
       "  ╱   2      2      2      ╱   2      2      2 ⎟ ⎟    ___________________⎥    \n",
       "╲╱  kₓ  + k_y  + k_z     ╲╱  kₓ  + k_y  + k_z  ⎠ ⎟   ╱   2      2      2 ⎥    \n",
       "─────────────────────────────────────────────────⎟⋅╲╱  kₓ  + k_y  + k_z  ⎥    \n",
       "l                                                ⎠                       ⎥    \n",
       "                                                                         ⎥    \n",
       "kₓ                   a_y⋅k_y                  a_z⋅k_z        ⎞           ⎥    \n",
       "─────────── + ────────────────────── + ──────────────────────⎟           ⎥    \n",
       "___________      ___________________      ___________________⎟           ⎥    \n",
       "  2      2      ╱   2      2      2      ╱   2      2      2 ⎟           ⎥    \n",
       "_y  + k_z     ╲╱  kₓ  + k_y  + k_z     ╲╱  kₓ  + k_y  + k_z  ⎠           ⎥    \n",
       "─────────────────────────────────────────────────────────────────────────⎥    \n",
       "                                                2⎞                       ⎥    \n",
       "       a_y⋅k_y                  a_z⋅k_z        ⎞ ⎟                       ⎥    \n",
       "────────────────────── + ──────────────────────⎟ ⎟                       ⎥    \n",
       "   ___________________      ___________________⎟ ⎟                       ⎥    \n",
       "  ╱   2      2      2      ╱   2      2      2 ⎟ ⎟    ___________________⎥    \n",
       "╲╱  kₓ  + k_y  + k_z     ╲╱  kₓ  + k_y  + k_z  ⎠ ⎟   ╱   2      2      2 ⎥    \n",
       "─────────────────────────────────────────────────⎟⋅╲╱  kₓ  + k_y  + k_z  ⎥    \n",
       "l                                                ⎠                       ⎦    \n",
       "\n",
       "                  ____________________________________________________________\n",
       "                 ╱                                                ⎛    -\\epsil\n",
       "                ╱                              \\epsilon_\\parallel⋅⎜1 + ───────\n",
       "               ╱                                                  ⎝           \n",
       "mega⋅         ╱    ───────────────────────────────────────────────────────────\n",
       "             ╱                                                                \n",
       "            ╱                                                 ⎛        aₓ⋅kₓ  \n",
       "           ╱           (-\\epsilon_\\parallel + \\epsilon_\\perp)⋅⎜───────────────\n",
       "          ╱                                                   ⎜   ____________\n",
       "         ╱                                                    ⎜  ╱   2      2 \n",
       "        ╱                                                     ⎝╲╱  kₓ  + k_y  \n",
       "       ╱           1 + ───────────────────────────────────────────────────────\n",
       "     ╲╱                                                                \\epsilo\n",
       "──────────────────────────────────────────────────────────────────────────────\n",
       "                                                                   c          \n",
       "                                                                              \n",
       "                                                                              \n",
       "                                                                              \n",
       "                                                                              \n",
       "                                                                              \n",
       "                                                                              \n",
       "                                                                              \n",
       "                                                                              \n",
       "                                                                              \n",
       "                                                                              \n",
       "                                                                              \n",
       "                                                                              \n",
       "                                                                              \n",
       "                                                                              \n",
       "                                                                              \n",
       "                                                                              \n",
       "                                                                              \n",
       "                                                                              \n",
       "                                                                              \n",
       "                                                                              \n",
       "                                                                              \n",
       "                                                                              \n",
       "                                                                              \n",
       "                                                                              \n",
       "                                                                              \n",
       "                                                                              \n",
       "                                                                              \n",
       "                                                                              \n",
       "                                                                              \n",
       "                                                                              \n",
       "                                                                              \n",
       "                                                                              \n",
       "                                                                              \n",
       "                                                                              \n",
       "                                                                              \n",
       "                                                                              \n",
       "                                                                              \n",
       "\n",
       "____________________________________________________________⎞\n",
       "on_\\parallel + \\epsilon_\\perp⎞                              ⎟\n",
       "─────────────────────────────⎟                              ⎟\n",
       "  \\epsilon_\\parallel         ⎠                              ⎟\n",
       "─────────────────────────────────────────────────────────── ⎟\n",
       "                                                          2 ⎟\n",
       "                 a_y⋅k_y                  a_z⋅k_z        ⎞  ⎟\n",
       "─────── + ────────────────────── + ──────────────────────⎟  ⎟\n",
       "_______      ___________________      ___________________⎟  ⎟\n",
       "     2      ╱   2      2      2      ╱   2      2      2 ⎟  ⎟\n",
       "+ k_z     ╲╱  kₓ  + k_y  + k_z     ╲╱  kₓ  + k_y  + k_z  ⎠  ⎟\n",
       "─────────────────────────────────────────────────────────── ⎟\n",
       "n_\\parallel                                                 ⎟\n",
       "────────────────────────────────────────────────────────────⎟\n",
       "                                                            ⎟\n",
       "                                                            ⎟\n",
       "                                                            ⎟\n",
       "                                                            ⎟\n",
       "                                                            ⎟\n",
       "                                                            ⎟\n",
       "                                                            ⎟\n",
       "                                                            ⎟\n",
       "                                                            ⎟\n",
       "                                                            ⎟\n",
       "                                                            ⎟\n",
       "                                                            ⎟\n",
       "                                                            ⎟\n",
       "                                                            ⎟\n",
       "                                                            ⎟\n",
       "                                                            ⎟\n",
       "                                                            ⎟\n",
       "                                                            ⎟\n",
       "                                                            ⎟\n",
       "                                                            ⎟\n",
       "                                                            ⎟\n",
       "                                                            ⎟\n",
       "                                                            ⎟\n",
       "                                                            ⎟\n",
       "                                                            ⎟\n",
       "                                                            ⎟\n",
       "                                                            ⎟\n",
       "                                                            ⎟\n",
       "                                                            ⎟\n",
       "                                                            ⎟\n",
       "                                                            ⎟\n",
       "                                                            ⎟\n",
       "                                                            ⎟\n",
       "                                                            ⎟\n",
       "                                                            ⎟\n",
       "                                                            ⎟\n",
       "                                                            ⎟\n",
       "                                                            ⎠"
      ]
     },
     "execution_count": 24,
     "metadata": {},
     "output_type": "execute_result"
    }
   ],
   "source": [
    "pol2 = opticAxis - kap*opticAxis.dot(kap)*(eps2/eps1)\n",
    "k2 = (w/c)*sqrt(eps2)\n",
    "pol2, k2"
   ]
  },
  {
   "cell_type": "markdown",
   "metadata": {},
   "source": [
    "Partially Degenerate solutions\n",
    "---"
   ]
  },
  {
   "cell_type": "markdown",
   "metadata": {},
   "source": [
    "$k_y = 0$"
   ]
  },
  {
   "cell_type": "code",
   "execution_count": 35,
   "metadata": {
    "collapsed": false
   },
   "outputs": [
    {
     "data": {
      "image/png": "[encoded data removed]",
      "text/latex": [
       "$$\\left ( \\left[\\begin{matrix}0\\\\\\frac{k_{x}}{\\sqrt{k_{x}^{2} + k_{z}^{2}}}\\\\0\\end{matrix}\\right], \\quad \\left[\\begin{matrix}- \\frac{\\epsilon_{\\perp} k_{x} k_{z}}{\\epsilon_{\\parallel} k_{x}^{2} + \\epsilon_{\\perp} k_{z}^{2}}\\\\0\\\\\\frac{\\epsilon_{\\parallel} k_{x}^{2}}{\\epsilon_{\\parallel} k_{x}^{2} + \\epsilon_{\\perp} k_{z}^{2}}\\end{matrix}\\right]\\right )$$"
      ],
      "text/plain": [
       "⎛                   ⎡          -\\epsilon_\\perp⋅kₓ⋅k_z            ⎤⎞\n",
       "⎜⎡       0       ⎤, ⎢────────────────────────────────────────────⎥⎟\n",
       "⎜⎢               ⎥  ⎢                     2                     2⎥⎟\n",
       "⎜⎢       kₓ      ⎥  ⎢\\epsilon_\\parallel⋅kₓ  + \\epsilon_\\perp⋅k_z ⎥⎟\n",
       "⎜⎢───────────────⎥  ⎢                                            ⎥⎟\n",
       "⎜⎢   ____________⎥  ⎢                     0                      ⎥⎟\n",
       "⎜⎢  ╱   2      2 ⎥  ⎢                                            ⎥⎟\n",
       "⎜⎢╲╱  kₓ  + k_z  ⎥  ⎢                                2           ⎥⎟\n",
       "⎜⎢               ⎥  ⎢           \\epsilon_\\parallel⋅kₓ            ⎥⎟\n",
       "⎜⎣       0       ⎦  ⎢────────────────────────────────────────────⎥⎟\n",
       "⎜                   ⎢                     2                     2⎥⎟\n",
       "⎝                   ⎣\\epsilon_\\parallel⋅kₓ  + \\epsilon_\\perp⋅k_z ⎦⎠"
      ]
     },
     "execution_count": 35,
     "metadata": {},
     "output_type": "execute_result"
    }
   ],
   "source": [
    "pol1.subs({ax:0, ay:0, az:1, ky:0}), simplify(pol2.subs({ax:0, ay:0, az:1, ky:0}))"
   ]
  },
  {
   "cell_type": "markdown",
   "metadata": {},
   "source": [
    "$k_x = 0$"
   ]
  },
  {
   "cell_type": "code",
   "execution_count": 36,
   "metadata": {
    "collapsed": false
   },
   "outputs": [
    {
     "data": {
      "image/png": "[encoded data removed]",
      "text/latex": [
       "$$\\left ( \\left[\\begin{matrix}- \\frac{k_{y}}{\\sqrt{k_{y}^{2} + k_{z}^{2}}}\\\\0\\\\0\\end{matrix}\\right], \\quad \\left[\\begin{matrix}0\\\\- \\frac{\\epsilon_{\\perp} k_{y} k_{z}}{\\epsilon_{\\parallel} k_{y}^{2} + \\epsilon_{\\perp} k_{z}^{2}}\\\\\\frac{\\epsilon_{\\parallel} k_{y}^{2}}{\\epsilon_{\\parallel} k_{y}^{2} + \\epsilon_{\\perp} k_{z}^{2}}\\end{matrix}\\right]\\right )$$"
      ],
      "text/plain": [
       "⎛⎡     -k_y       ⎤                                                 ⎞\n",
       "⎜⎢────────────────⎥, ⎡                      0                      ⎤⎟\n",
       "⎜⎢   _____________⎥  ⎢                                             ⎥⎟\n",
       "⎜⎢  ╱    2      2 ⎥  ⎢           -\\epsilon_\\perp⋅k_y⋅k_z           ⎥⎟\n",
       "⎜⎢╲╱  k_y  + k_z  ⎥  ⎢─────────────────────────────────────────────⎥⎟\n",
       "⎜⎢                ⎥  ⎢                      2                     2⎥⎟\n",
       "⎜⎢       0        ⎥  ⎢\\epsilon_\\parallel⋅k_y  + \\epsilon_\\perp⋅k_z ⎥⎟\n",
       "⎜⎢                ⎥  ⎢                                             ⎥⎟\n",
       "⎜⎣       0        ⎦  ⎢                                 2           ⎥⎟\n",
       "⎜                    ⎢           \\epsilon_\\parallel⋅k_y            ⎥⎟\n",
       "⎜                    ⎢─────────────────────────────────────────────⎥⎟\n",
       "⎜                    ⎢                      2                     2⎥⎟\n",
       "⎝                    ⎣\\epsilon_\\parallel⋅k_y  + \\epsilon_\\perp⋅k_z ⎦⎠"
      ]
     },
     "execution_count": 36,
     "metadata": {},
     "output_type": "execute_result"
    }
   ],
   "source": [
    "pol1.subs({ax:0, ay:0, az:1, kx:0}), simplify(pol2.subs({ax:0, ay:0, az:1, kx:0}))"
   ]
  },
  {
   "cell_type": "markdown",
   "metadata": {},
   "source": [
    "General\n",
    "---"
   ]
  },
  {
   "cell_type": "code",
   "execution_count": 37,
   "metadata": {
    "collapsed": false
   },
   "outputs": [
    {
     "data": {
      "image/png": "[encoded data removed]",
      "text/latex": [
       "$$\\left ( \\left[\\begin{matrix}- \\frac{k_{y}}{\\sqrt{k_{x}^{2} + k_{y}^{2} + k_{z}^{2}}}\\\\\\frac{k_{x}}{\\sqrt{k_{x}^{2} + k_{y}^{2} + k_{z}^{2}}}\\\\0\\end{matrix}\\right], \\quad \\left[\\begin{matrix}- \\frac{\\epsilon_{\\perp} k_{x} k_{z}}{\\epsilon_{\\parallel} k_{x}^{2} + \\epsilon_{\\parallel} k_{y}^{2} + \\epsilon_{\\perp} k_{z}^{2}}\\\\- \\frac{\\epsilon_{\\perp} k_{y} k_{z}}{\\epsilon_{\\parallel} k_{x}^{2} + \\epsilon_{\\parallel} k_{y}^{2} + \\epsilon_{\\perp} k_{z}^{2}}\\\\\\frac{\\epsilon_{\\parallel} \\left(k_{x}^{2} + k_{y}^{2}\\right)}{\\epsilon_{\\parallel} k_{x}^{2} + \\epsilon_{\\parallel} k_{y}^{2} + \\epsilon_{\\perp} k_{z}^{2}}\\end{matrix}\\right]\\right )$$"
      ],
      "text/plain": [
       "⎛⎡        -k_y          ⎤  ⎡                       -\\epsilon_\\perp⋅kₓ⋅k_z     \n",
       "⎜⎢──────────────────────⎥, ⎢──────────────────────────────────────────────────\n",
       "⎜⎢   ___________________⎥  ⎢                     2                         2  \n",
       "⎜⎢  ╱   2      2      2 ⎥  ⎢\\epsilon_\\parallel⋅kₓ  + \\epsilon_\\parallel⋅k_y  +\n",
       "⎜⎢╲╱  kₓ  + k_y  + k_z  ⎥  ⎢                                                  \n",
       "⎜⎢                      ⎥  ⎢                       -\\epsilon_\\perp⋅k_y⋅k_z    \n",
       "⎜⎢          kₓ          ⎥  ⎢──────────────────────────────────────────────────\n",
       "⎜⎢──────────────────────⎥  ⎢                     2                         2  \n",
       "⎜⎢   ___________________⎥  ⎢\\epsilon_\\parallel⋅kₓ  + \\epsilon_\\parallel⋅k_y  +\n",
       "⎜⎢  ╱   2      2      2 ⎥  ⎢                                                  \n",
       "⎜⎢╲╱  kₓ  + k_y  + k_z  ⎥  ⎢                                      ⎛  2      2⎞\n",
       "⎜⎢                      ⎥  ⎢                   \\epsilon_\\parallel⋅⎝kₓ  + k_y ⎠\n",
       "⎜⎣          0           ⎦  ⎢──────────────────────────────────────────────────\n",
       "⎜                          ⎢                     2                         2  \n",
       "⎝                          ⎣\\epsilon_\\parallel⋅kₓ  + \\epsilon_\\parallel⋅k_y  +\n",
       "\n",
       "                    ⎤⎞\n",
       "────────────────────⎥⎟\n",
       "                   2⎥⎟\n",
       " \\epsilon_\\perp⋅k_z ⎥⎟\n",
       "                    ⎥⎟\n",
       "                    ⎥⎟\n",
       "────────────────────⎥⎟\n",
       "                   2⎥⎟\n",
       " \\epsilon_\\perp⋅k_z ⎥⎟\n",
       "                    ⎥⎟\n",
       "                    ⎥⎟\n",
       "                    ⎥⎟\n",
       "────────────────────⎥⎟\n",
       "                   2⎥⎟\n",
       " \\epsilon_\\perp⋅k_z ⎦⎠"
      ]
     },
     "execution_count": 37,
     "metadata": {},
     "output_type": "execute_result"
    }
   ],
   "source": [
    "pol1.subs({ax:0, ay:0, az:1}), simplify(pol2.subs({ax:0, ay:0, az:1}))"
   ]
  },
  {
   "cell_type": "code",
   "execution_count": null,
   "metadata": {
    "collapsed": true
   },
   "outputs": [],
   "source": []
  }
 ],
 "metadata": {
  "kernelspec": {
   "display_name": "Python 3",
   "language": "python",
   "name": "python3"
  },
  "language_info": {
   "codemirror_mode": {
    "name": "ipython",
    "version": 3
   },
   "file_extension": ".py",
   "mimetype": "text/x-python",
   "name": "python",
   "nbconvert_exporter": "python",
   "pygments_lexer": "ipython3",
   "version": "3.4.3"
  }
 },
 "nbformat": 4,
 "nbformat_minor": 0
}
